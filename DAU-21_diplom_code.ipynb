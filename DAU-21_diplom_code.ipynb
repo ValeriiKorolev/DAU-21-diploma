{
  "nbformat": 4,
  "nbformat_minor": 0,
  "metadata": {
    "colab": {
      "provenance": [],
      "collapsed_sections": [
        "l0fIzVJJNoZB",
        "Ym4mLhbSf5cq",
        "HV8JA6Z_0EWT",
        "D2dk8kRV6Awg",
        "gejbocGMvXV5",
        "E7t8yH7wg2hw",
        "F5aOXZn2zesy",
        "fVMZU0UWRstF",
        "UTK80oOdKEoT",
        "H9NEJtBjKH0s",
        "rHI-tHDBId5_"
      ]
    },
    "kernelspec": {
      "name": "python3",
      "display_name": "Python 3"
    },
    "language_info": {
      "name": "python"
    }
  },
  "cells": [
    {
      "cell_type": "markdown",
      "source": [
        "##Анализ данных о сердечно-сосудистых заболеваниях (поиск инсайтов, составление рекомендаций стейкхолдерам, построение предиктивной модели классификации наличия заболевания).\n"
      ],
      "metadata": {
        "id": "-A0DKON0dg8V"
      }
    },
    {
      "cell_type": "code",
      "execution_count": null,
      "metadata": {
        "id": "YRoK5WXVdUQC"
      },
      "outputs": [],
      "source": [
        "import pandas as pd\n",
        "import seaborn as sns\n",
        "import numpy as np\n",
        "import matplotlib.pyplot as plt\n",
        "import matplotlib.patches as mpatches\n",
        "from pylab import rcParams\n",
        "rcParams['figure.figsize'] = 11,7"
      ]
    },
    {
      "cell_type": "code",
      "source": [
        "df = pd.read_csv('cardio_train.csv', sep = ';')"
      ],
      "metadata": {
        "id": "A-fsIYCQdpdI"
      },
      "execution_count": null,
      "outputs": []
    },
    {
      "cell_type": "markdown",
      "source": [
        "### Признаки:\n",
        "#### Объективные признаки\n",
        "\n",
        "*   Возраст | age | int (days)\n",
        "*   Рост | height | int (cm) \n",
        "*   Вес | weight | float (kg)\n",
        "*   Пол | gender | categorical code | 1 - женский, 2 - мужской\n",
        "\n",
        "#### Диагностические признаки\n",
        "\n",
        "*   Систолическое кровяное давление | ap_hi | int \n",
        "*   Диастолическое кровяное давление | ap_lo | int\n",
        "*   Уровень холестерина в крови | cholesterol | 1 - нормальный, 2 - повышенный, 3 - значительно выше нормы\n",
        "*   Уровень сахара в крови | gluc | 1 - нормальный, 2 - повышенный, 3 - значительно выше нормы\n",
        "\n",
        "#### Поведенческие признаки\n",
        "\n",
        "*   Курение | smoke | binary | 1 - да, 0 - нет\n",
        "*   Употребление алкоголя | alco | binary | 1 - да, 0 - нет\n",
        "*   Физическая активность | active | binary | 1 - да, 0 - нет\n",
        "\n",
        "#### Целевой признак\n",
        "\n",
        "*   Наличие или отсутствие ССЗ | cardio | binary | 1 - да, 0 - нет\n"
      ],
      "metadata": {
        "id": "l0fIzVJJNoZB"
      }
    },
    {
      "cell_type": "code",
      "source": [
        "df.head(5)"
      ],
      "metadata": {
        "id": "kHI0nJHSfYMc"
      },
      "execution_count": null,
      "outputs": []
    },
    {
      "cell_type": "code",
      "source": [
        "df.info()"
      ],
      "metadata": {
        "id": "EacpDNkZfb5u"
      },
      "execution_count": null,
      "outputs": []
    },
    {
      "cell_type": "code",
      "source": [
        "df.groupby(df.gender)[['height', 'weight']].agg('mean')\n",
        "# Будем считать 1 - женщина, 2 - мужчина"
      ],
      "metadata": {
        "id": "6hipvsSRfmTz"
      },
      "execution_count": null,
      "outputs": []
    },
    {
      "cell_type": "code",
      "source": [
        "# Введем столбец Возраст в годах age_years. Как правило, в медицинских документах фигурирует полный возраст в годах\n",
        "df['age_years'] = df['age']//365.25\n",
        "df.head(5)"
      ],
      "metadata": {
        "id": "DHER4MM4fsbT"
      },
      "execution_count": null,
      "outputs": []
    },
    {
      "cell_type": "markdown",
      "source": [
        "### Проверка на полноту и корректность данных\n",
        "\n",
        "Корректируем данные признаков height, weight, ap_hi, ap_lo.\n",
        "Возьмем за основу методику определения границ выбросов через межквартильный размах.\n",
        "\n",
        "Т.к. статистики признаков различны у мужчин и женщин, смотрим корректность данных отдельно."
      ],
      "metadata": {
        "id": "Ym4mLhbSf5cq"
      }
    },
    {
      "cell_type": "code",
      "source": [
        "# Функция выводит боксплот по признаку feature, параметр - Пол. \n",
        "def graf_outliers(feature):\n",
        "  rcParams['figure.figsize'] =(10 , 8)\n",
        "  boxplot = sns.boxplot(x = 'gender', y=feature, data=df)\n",
        "  boxplot.axes.set_title('Распределение значений признака ' + feature, fontsize=16)\n",
        "  boxplot.set_xlabel('Пол (1 - женский, 2 - мужской)', fontsize=14)\n",
        "  boxplot.set_ylabel('Значения', fontsize=14);"
      ],
      "metadata": {
        "id": "Eq9wQ4UMpK_b"
      },
      "execution_count": null,
      "outputs": []
    },
    {
      "cell_type": "code",
      "source": [
        "# Функция рассчитывает нижнюю и верхнюю границу выбросов признака feature, параметр - пол.\n",
        "# Выводит список пар значений границ выбросов.\n",
        "def outliers_boundary(feature):\n",
        "  bounderis = []\n",
        "  for i in range(1,3):\n",
        "    q1 = df.loc[df.gender == i][feature].quantile(0.25)\n",
        "    q3 = df.loc[df.gender == i][feature].quantile(0.75)\n",
        "    iqr = q3 - q1\n",
        "    lower_bound = q1 - (1.5 * iqr)\n",
        "    upper_bound = q3 + (1.5 * iqr)\n",
        "    bounderis.append([lower_bound, upper_bound])\n",
        "\n",
        "  print('Нижняя граница. Женщины - ', bounderis[0][0], 'Мужчины - ', bounderis[1][0]) \n",
        "  print('Верхняя граница Женщины - ', bounderis[0][1], 'Мужчины - ', bounderis[1][1])\n",
        "  return bounderis"
      ],
      "metadata": {
        "id": "ro33Ieujm4NT"
      },
      "execution_count": null,
      "outputs": []
    },
    {
      "cell_type": "markdown",
      "source": [
        "#### Рост (height)\n",
        "\n"
      ],
      "metadata": {
        "id": "m0wvUkFpaE6R"
      }
    },
    {
      "cell_type": "code",
      "source": [
        "graf_outliers('height')\n",
        "bounderis_height = outliers_boundary('height')"
      ],
      "metadata": {
        "colab": {
          "base_uri": "https://localhost:8080/",
          "height": 556
        },
        "id": "Qp-nMhbOupvD",
        "outputId": "52cd8456-07dd-4d3f-9a10-802f09866ab8"
      },
      "execution_count": null,
      "outputs": [
        {
          "output_type": "stream",
          "name": "stdout",
          "text": [
            "Нижняя граница. Женщины -  143.5 Мужчины -  150.0\n",
            "Верхняя граница Женщины -  179.5 Мужчины -  190.0\n"
          ]
        },
        {
          "output_type": "display_data",
          "data": {
            "text/plain": [
              "<Figure size 720x576 with 1 Axes>"
            ],
            "image/png": "[encoded data removed]"
          },
          "metadata": {
            "needs_background": "light"
          }
        }
      ]
    },
    {
      "cell_type": "code",
      "source": [
        "# Женщины: мах значение 250 удаляем, далее 198, что считаем допустимым. \n",
        "# Мужчины: мах значение 207 считаем допустимым.\n",
        "# Нижнюю границу выбросов установим исходя из принятых в медицине границ карликового роста: 120 см для женщин, 130 см для мужчин.\n",
        "filer_height_women = (df.gender == 1) & ((df.height == 250) | (df.height < 120))\n",
        "filer_height_men = (df.gender == 2) & (df.height < 130)\n",
        "outliers_height = df.loc[(filer_height_women) | (filer_height_men)].index\n",
        "len(outliers_height)   "
      ],
      "metadata": {
        "colab": {
          "base_uri": "https://localhost:8080/"
        },
        "id": "S-24e5mZaEJN",
        "outputId": "37e3db3f-117e-4237-d15c-e7183ca25f9e"
      },
      "execution_count": null,
      "outputs": [
        {
          "output_type": "execute_result",
          "data": {
            "text/plain": [
              "72"
            ]
          },
          "metadata": {},
          "execution_count": 20
        }
      ]
    },
    {
      "cell_type": "markdown",
      "source": [
        "#### ВЕС (weight)\n"
      ],
      "metadata": {
        "id": "x4d-e5zsJLr8"
      }
    },
    {
      "cell_type": "code",
      "source": [
        "graf_outliers('weight')\n",
        "bounderis_weight = outliers_boundary('weight')"
      ],
      "metadata": {
        "id": "2F8500GGf6yD",
        "colab": {
          "base_uri": "https://localhost:8080/",
          "height": 556
        },
        "outputId": "29bac93e-4450-4cb5-ec94-8bcd94b8c47f"
      },
      "execution_count": null,
      "outputs": [
        {
          "output_type": "stream",
          "name": "stdout",
          "text": [
            "Нижняя граница. Женщины -  37.5 Мужчины -  42.5\n",
            "Верхняя граница Женщины -  105.5 Мужчины -  110.5\n"
          ]
        },
        {
          "output_type": "display_data",
          "data": {
            "text/plain": [
              "<Figure size 720x576 with 1 Axes>"
            ],
            "image/png": "[encoded data removed]"
          },
          "metadata": {
            "needs_background": "light"
          }
        }
      ]
    },
    {
      "cell_type": "code",
      "source": [
        "# Количество людей, страдающих ожирением, в мире только растет. Поэтому вес свыше 100 кг нельзя считать аномальным. \n",
        "# В контексте данного направления исследования излишний вес может быть одним из факторов, влияющих на возникновение ССЗ. \n",
        "# Поэтому удаляем только максимальные значения 200 (по одному и мужчин и женщин) и данные, в которых вес меньше 37.5 кг у женщин и 42.5 кг у мужчин.\n",
        "filer_weight_women = (df.gender == 1) & ((df.weight == 200) | (df.weight < bounderis_weight[0][0]))\n",
        "filer_weight_men = (df.gender == 2) & ((df.weight == 200) | (df.weight < bounderis_weight[1][0]))\n",
        "outliers_weight = df.loc[(filer_weight_women) | (filer_weight_men)].index\n",
        "len(outliers_weight)   "
      ],
      "metadata": {
        "colab": {
          "base_uri": "https://localhost:8080/"
        },
        "id": "-VXRIBNhbe8f",
        "outputId": "31fc0ac1-0227-463f-b9f5-4b3aa0b7f79e"
      },
      "execution_count": null,
      "outputs": [
        {
          "output_type": "execute_result",
          "data": {
            "text/plain": [
              "45"
            ]
          },
          "metadata": {},
          "execution_count": 21
        }
      ]
    },
    {
      "cell_type": "markdown",
      "source": [
        "#### Давление (ap_hi, ap_lo)"
      ],
      "metadata": {
        "id": "0gN_rOhzQdZ6"
      }
    },
    {
      "cell_type": "code",
      "source": [
        "graf_outliers('ap_hi')\n",
        "bounderis_ap_hi = outliers_boundary('ap_hi')"
      ],
      "metadata": {
        "colab": {
          "base_uri": "https://localhost:8080/",
          "height": 556
        },
        "id": "GYnBuktrQcgC",
        "outputId": "eb15e93c-fdfa-4414-9689-f5a69cf064c8"
      },
      "execution_count": null,
      "outputs": [
        {
          "output_type": "stream",
          "name": "stdout",
          "text": [
            "Нижняя граница. Женщины -  90.0 Мужчины -  90.0\n",
            "Верхняя граница Женщины -  170.0 Мужчины -  170.0\n"
          ]
        },
        {
          "output_type": "display_data",
          "data": {
            "text/plain": [
              "<Figure size 720x576 with 1 Axes>"
            ],
            "image/png": "[encoded data removed]"
          },
          "metadata": {
            "needs_background": "light"
          }
        }
      ]
    },
    {
      "cell_type": "code",
      "source": [
        "graf_outliers('ap_lo')\n",
        "bounderis_ap_lo = outliers_boundary('ap_lo')"
      ],
      "metadata": {
        "colab": {
          "base_uri": "https://localhost:8080/",
          "height": 556
        },
        "id": "kr2MGOpaST5Y",
        "outputId": "cb56bafc-effe-4171-c18a-9a28a75e8dc1"
      },
      "execution_count": null,
      "outputs": [
        {
          "output_type": "stream",
          "name": "stdout",
          "text": [
            "Нижняя граница. Женщины -  65.0 Мужчины -  65.0\n",
            "Верхняя граница Женщины -  105.0 Мужчины -  105.0\n"
          ]
        },
        {
          "output_type": "display_data",
          "data": {
            "text/plain": [
              "<Figure size 720x576 with 1 Axes>"
            ],
            "image/png": "[encoded data removed]"
          },
          "metadata": {
            "needs_background": "light"
          }
        }
      ]
    },
    {
      "cell_type": "code",
      "source": [
        "# Значения одинаковы для мужского и женского пола и явно не соответствуют данным медицинской практики.\n",
        "# Поэтому будем руководствоваться следующими данными.\n",
        "# В медицинской практике критическим считается давление ниже 80 для систолического и ниже 50 для диастолического.\n",
        "# Максимально зафиксированное высокое давление 310/220. В качестве верхней границы допустимости данным возьмем этот показатель, уменьшенный на 20%, \n",
        "# т.е. 250 для систолического и 180 для диастолического давления. \n",
        "# Кроме того, удалим записи, в которых ap_hi < ap_lo\n",
        "filer_ap_hi = (df.ap_hi > 250) | (df.ap_hi < 80)\n",
        "filer_ap_lo = (df.ap_lo > 180) | (df.ap_lo < 50)\n",
        "filer_ap_add = df.ap_hi < df.ap_lo\n",
        "outliers_ap = df.loc[(filer_ap_hi) | (filer_ap_lo) | (filer_ap_add)].index\n",
        "len(outliers_ap)   "
      ],
      "metadata": {
        "colab": {
          "base_uri": "https://localhost:8080/"
        },
        "id": "l8JjD3yqTaL7",
        "outputId": "6263db02-9c5d-4fe6-f001-031f80d9bbd1"
      },
      "execution_count": null,
      "outputs": [
        {
          "output_type": "execute_result",
          "data": {
            "text/plain": [
              "1349"
            ]
          },
          "metadata": {},
          "execution_count": 22
        }
      ]
    },
    {
      "cell_type": "code",
      "source": [
        "outliers = outliers_height | outliers_weight | outliers_ap\n",
        "len(outliers)"
      ],
      "metadata": {
        "colab": {
          "base_uri": "https://localhost:8080/"
        },
        "id": "wo2mNm9aXQ-f",
        "outputId": "051c98bf-b832-4a44-ce15-88093e293795"
      },
      "execution_count": null,
      "outputs": [
        {
          "output_type": "stream",
          "name": "stderr",
          "text": [
            "/usr/local/lib/python3.7/dist-packages/ipykernel_launcher.py:1: FutureWarning: Index.__or__ operating as a set operation is deprecated, in the future this will be a logical operation matching Series.__or__.  Use index.union(other) instead\n",
            "  \"\"\"Entry point for launching an IPython kernel.\n"
          ]
        },
        {
          "output_type": "execute_result",
          "data": {
            "text/plain": [
              "1459"
            ]
          },
          "metadata": {},
          "execution_count": 15
        }
      ]
    },
    {
      "cell_type": "code",
      "source": [
        "df_work = df.drop(outliers)"
      ],
      "metadata": {
        "id": "xXspKSfcajUh"
      },
      "execution_count": null,
      "outputs": []
    },
    {
      "cell_type": "code",
      "source": [
        "# Удалим 4 строки возраст 29-30 лет  \n",
        "df_work = df_work.loc[df_work['age_years'] > 30] "
      ],
      "metadata": {
        "id": "1oVjOJAlwq2l"
      },
      "execution_count": null,
      "outputs": []
    },
    {
      "cell_type": "code",
      "source": [
        "# Введем признак Индекс массы тела\n",
        "df_work['BMI'] = df_work['weight']/np.power(df_work['height'] / 100, 2)"
      ],
      "metadata": {
        "id": "3b9BWJ5Ay5e8"
      },
      "execution_count": null,
      "outputs": []
    },
    {
      "cell_type": "code",
      "source": [
        "df_work.describe()"
      ],
      "metadata": {
        "colab": {
          "base_uri": "https://localhost:8080/",
          "height": 364
        },
        "id": "Q7vQ6zfrar-X",
        "outputId": "9bd94533-add8-4447-c934-45452ea3ec00"
      },
      "execution_count": null,
      "outputs": [
        {
          "output_type": "execute_result",
          "data": {
            "text/plain": [
              "                 id           age        gender        height        weight  \\\n",
              "count  68537.000000  68537.000000  68537.000000  68537.000000  68537.000000   \n",
              "mean   49973.371974  19465.348717      1.348571    164.432963     74.133733   \n",
              "std    28847.877973   2467.022348      0.476521      7.873384     14.257967   \n",
              "min        0.000000  14275.000000      1.000000    120.000000     38.000000   \n",
              "25%    25002.000000  17658.000000      1.000000    159.000000     65.000000   \n",
              "50%    50010.000000  19701.000000      1.000000    165.000000     72.000000   \n",
              "75%    74873.000000  21324.000000      2.000000    170.000000     82.000000   \n",
              "max    99999.000000  23713.000000      2.000000    207.000000    183.000000   \n",
              "\n",
              "              ap_hi         ap_lo   cholesterol          gluc         smoke  \\\n",
              "count  68537.000000  68537.000000  68537.000000  68537.000000  68537.000000   \n",
              "mean     126.683324     81.323767      1.364869      1.225776      0.087982   \n",
              "std       16.680568      9.419566      0.679052      0.571649      0.283270   \n",
              "min       80.000000     50.000000      1.000000      1.000000      0.000000   \n",
              "25%      120.000000     80.000000      1.000000      1.000000      0.000000   \n",
              "50%      120.000000     80.000000      1.000000      1.000000      0.000000   \n",
              "75%      140.000000     90.000000      2.000000      1.000000      0.000000   \n",
              "max      240.000000    180.000000      3.000000      3.000000      1.000000   \n",
              "\n",
              "               alco        active        cardio     age_years  \n",
              "count  68537.000000  68537.000000  68537.000000  68537.000000  \n",
              "mean       0.053373      0.803333      0.494813     52.793644  \n",
              "std        0.224777      0.397482      0.499977      6.761800  \n",
              "min        0.000000      0.000000      0.000000     39.000000  \n",
              "25%        0.000000      1.000000      0.000000     48.000000  \n",
              "50%        0.000000      1.000000      0.000000     53.000000  \n",
              "75%        0.000000      1.000000      1.000000     58.000000  \n",
              "max        1.000000      1.000000      1.000000     64.000000  "
            ],
            "text/html": [
              "\n",
              "  <div id=\"df-6b0352e5-afc2-494c-a861-cf49a31a5d65\">\n",
              "    <div class=\"colab-df-container\">\n",
              "      <div>\n",
              "<style scoped>\n",
              "    .dataframe tbody tr th:only-of-type {\n",
              "        vertical-align: middle;\n",
              "    }\n",
              "\n",
              "    .dataframe tbody tr th {\n",
              "        vertical-align: top;\n",
              "    }\n",
              "\n",
              "    .dataframe thead th {\n",
              "        text-align: right;\n",
              "    }\n",
              "</style>\n",
              "<table border=\"1\" class=\"dataframe\">\n",
              "  <thead>\n",
              "    <tr style=\"text-align: right;\">\n",
              "      <th></th>\n",
              "      <th>id</th>\n",
              "      <th>age</th>\n",
              "      <th>gender</th>\n",
              "      <th>height</th>\n",
              "      <th>weight</th>\n",
              "      <th>ap_hi</th>\n",
              "      <th>ap_lo</th>\n",
              "      <th>cholesterol</th>\n",
              "      <th>gluc</th>\n",
              "      <th>smoke</th>\n",
              "      <th>alco</th>\n",
              "      <th>active</th>\n",
              "      <th>cardio</th>\n",
              "      <th>age_years</th>\n",
              "    </tr>\n",
              "  </thead>\n",
              "  <tbody>\n",
              "    <tr>\n",
              "      <th>count</th>\n",
              "      <td>68537.000000</td>\n",
              "      <td>68537.000000</td>\n",
              "      <td>68537.000000</td>\n",
              "      <td>68537.000000</td>\n",
              "      <td>68537.000000</td>\n",
              "      <td>68537.000000</td>\n",
              "      <td>68537.000000</td>\n",
              "      <td>68537.000000</td>\n",
              "      <td>68537.000000</td>\n",
              "      <td>68537.000000</td>\n",
              "      <td>68537.000000</td>\n",
              "      <td>68537.000000</td>\n",
              "      <td>68537.000000</td>\n",
              "      <td>68537.000000</td>\n",
              "    </tr>\n",
              "    <tr>\n",
              "      <th>mean</th>\n",
              "      <td>49973.371974</td>\n",
              "      <td>19465.348717</td>\n",
              "      <td>1.348571</td>\n",
              "      <td>164.432963</td>\n",
              "      <td>74.133733</td>\n",
              "      <td>126.683324</td>\n",
              "      <td>81.323767</td>\n",
              "      <td>1.364869</td>\n",
              "      <td>1.225776</td>\n",
              "      <td>0.087982</td>\n",
              "      <td>0.053373</td>\n",
              "      <td>0.803333</td>\n",
              "      <td>0.494813</td>\n",
              "      <td>52.793644</td>\n",
              "    </tr>\n",
              "    <tr>\n",
              "      <th>std</th>\n",
              "      <td>28847.877973</td>\n",
              "      <td>2467.022348</td>\n",
              "      <td>0.476521</td>\n",
              "      <td>7.873384</td>\n",
              "      <td>14.257967</td>\n",
              "      <td>16.680568</td>\n",
              "      <td>9.419566</td>\n",
              "      <td>0.679052</td>\n",
              "      <td>0.571649</td>\n",
              "      <td>0.283270</td>\n",
              "      <td>0.224777</td>\n",
              "      <td>0.397482</td>\n",
              "      <td>0.499977</td>\n",
              "      <td>6.761800</td>\n",
              "    </tr>\n",
              "    <tr>\n",
              "      <th>min</th>\n",
              "      <td>0.000000</td>\n",
              "      <td>14275.000000</td>\n",
              "      <td>1.000000</td>\n",
              "      <td>120.000000</td>\n",
              "      <td>38.000000</td>\n",
              "      <td>80.000000</td>\n",
              "      <td>50.000000</td>\n",
              "      <td>1.000000</td>\n",
              "      <td>1.000000</td>\n",
              "      <td>0.000000</td>\n",
              "      <td>0.000000</td>\n",
              "      <td>0.000000</td>\n",
              "      <td>0.000000</td>\n",
              "      <td>39.000000</td>\n",
              "    </tr>\n",
              "    <tr>\n",
              "      <th>25%</th>\n",
              "      <td>25002.000000</td>\n",
              "      <td>17658.000000</td>\n",
              "      <td>1.000000</td>\n",
              "      <td>159.000000</td>\n",
              "      <td>65.000000</td>\n",
              "      <td>120.000000</td>\n",
              "      <td>80.000000</td>\n",
              "      <td>1.000000</td>\n",
              "      <td>1.000000</td>\n",
              "      <td>0.000000</td>\n",
              "      <td>0.000000</td>\n",
              "      <td>1.000000</td>\n",
              "      <td>0.000000</td>\n",
              "      <td>48.000000</td>\n",
              "    </tr>\n",
              "    <tr>\n",
              "      <th>50%</th>\n",
              "      <td>50010.000000</td>\n",
              "      <td>19701.000000</td>\n",
              "      <td>1.000000</td>\n",
              "      <td>165.000000</td>\n",
              "      <td>72.000000</td>\n",
              "      <td>120.000000</td>\n",
              "      <td>80.000000</td>\n",
              "      <td>1.000000</td>\n",
              "      <td>1.000000</td>\n",
              "      <td>0.000000</td>\n",
              "      <td>0.000000</td>\n",
              "      <td>1.000000</td>\n",
              "      <td>0.000000</td>\n",
              "      <td>53.000000</td>\n",
              "    </tr>\n",
              "    <tr>\n",
              "      <th>75%</th>\n",
              "      <td>74873.000000</td>\n",
              "      <td>21324.000000</td>\n",
              "      <td>2.000000</td>\n",
              "      <td>170.000000</td>\n",
              "      <td>82.000000</td>\n",
              "      <td>140.000000</td>\n",
              "      <td>90.000000</td>\n",
              "      <td>2.000000</td>\n",
              "      <td>1.000000</td>\n",
              "      <td>0.000000</td>\n",
              "      <td>0.000000</td>\n",
              "      <td>1.000000</td>\n",
              "      <td>1.000000</td>\n",
              "      <td>58.000000</td>\n",
              "    </tr>\n",
              "    <tr>\n",
              "      <th>max</th>\n",
              "      <td>99999.000000</td>\n",
              "      <td>23713.000000</td>\n",
              "      <td>2.000000</td>\n",
              "      <td>207.000000</td>\n",
              "      <td>183.000000</td>\n",
              "      <td>240.000000</td>\n",
              "      <td>180.000000</td>\n",
              "      <td>3.000000</td>\n",
              "      <td>3.000000</td>\n",
              "      <td>1.000000</td>\n",
              "      <td>1.000000</td>\n",
              "      <td>1.000000</td>\n",
              "      <td>1.000000</td>\n",
              "      <td>64.000000</td>\n",
              "    </tr>\n",
              "  </tbody>\n",
              "</table>\n",
              "</div>\n",
              "      <button class=\"colab-df-convert\" onclick=\"convertToInteractive('df-6b0352e5-afc2-494c-a861-cf49a31a5d65')\"\n",
              "              title=\"Convert this dataframe to an interactive table.\"\n",
              "              style=\"display:none;\">\n",
              "        \n",
              "  <svg xmlns=\"http://www.w3.org/2000/svg\" height=\"24px\"viewBox=\"0 0 24 24\"\n",
              "       width=\"24px\">\n",
              "    <path d=\"M0 0h24v24H0V0z\" fill=\"none\"/>\n",
              "    <path d=\"M18.56 5.44l.94 2.06.94-2.06 2.06-.94-2.06-.94-.94-2.06-.94 2.06-2.06.94zm-11 1L8.5 8.5l.94-2.06 2.06-.94-2.06-.94L8.5 2.5l-.94 2.06-2.06.94zm10 10l.94 2.06.94-2.06 2.06-.94-2.06-.94-.94-2.06-.94 2.06-2.06.94z\"/><path d=\"M17.41 7.96l-1.37-1.37c-.4-.4-.92-.59-1.43-.59-.52 0-1.04.2-1.43.59L10.3 9.45l-7.72 7.72c-.78.78-.78 2.05 0 2.83L4 21.41c.39.39.9.59 1.41.59.51 0 1.02-.2 1.41-.59l7.78-7.78 2.81-2.81c.8-.78.8-2.07 0-2.86zM5.41 20L4 18.59l7.72-7.72 1.47 1.35L5.41 20z\"/>\n",
              "  </svg>\n",
              "      </button>\n",
              "      \n",
              "  <style>\n",
              "    .colab-df-container {\n",
              "      display:flex;\n",
              "      flex-wrap:wrap;\n",
              "      gap: 12px;\n",
              "    }\n",
              "\n",
              "    .colab-df-convert {\n",
              "      background-color: #E8F0FE;\n",
              "      border: none;\n",
              "      border-radius: 50%;\n",
              "      cursor: pointer;\n",
              "      display: none;\n",
              "      fill: #1967D2;\n",
              "      height: 32px;\n",
              "      padding: 0 0 0 0;\n",
              "      width: 32px;\n",
              "    }\n",
              "\n",
              "    .colab-df-convert:hover {\n",
              "      background-color: #E2EBFA;\n",
              "      box-shadow: 0px 1px 2px rgba(60, 64, 67, 0.3), 0px 1px 3px 1px rgba(60, 64, 67, 0.15);\n",
              "      fill: #174EA6;\n",
              "    }\n",
              "\n",
              "    [theme=dark] .colab-df-convert {\n",
              "      background-color: #3B4455;\n",
              "      fill: #D2E3FC;\n",
              "    }\n",
              "\n",
              "    [theme=dark] .colab-df-convert:hover {\n",
              "      background-color: #434B5C;\n",
              "      box-shadow: 0px 1px 3px 1px rgba(0, 0, 0, 0.15);\n",
              "      filter: drop-shadow(0px 1px 2px rgba(0, 0, 0, 0.3));\n",
              "      fill: #FFFFFF;\n",
              "    }\n",
              "  </style>\n",
              "\n",
              "      <script>\n",
              "        const buttonEl =\n",
              "          document.querySelector('#df-6b0352e5-afc2-494c-a861-cf49a31a5d65 button.colab-df-convert');\n",
              "        buttonEl.style.display =\n",
              "          google.colab.kernel.accessAllowed ? 'block' : 'none';\n",
              "\n",
              "        async function convertToInteractive(key) {\n",
              "          const element = document.querySelector('#df-6b0352e5-afc2-494c-a861-cf49a31a5d65');\n",
              "          const dataTable =\n",
              "            await google.colab.kernel.invokeFunction('convertToInteractive',\n",
              "                                                     [key], {});\n",
              "          if (!dataTable) return;\n",
              "\n",
              "          const docLinkHtml = 'Like what you see? Visit the ' +\n",
              "            '<a target=\"_blank\" href=https://colab.research.google.com/notebooks/data_table.ipynb>data table notebook</a>'\n",
              "            + ' to learn more about interactive tables.';\n",
              "          element.innerHTML = '';\n",
              "          dataTable['output_type'] = 'display_data';\n",
              "          await google.colab.output.renderOutput(dataTable, element);\n",
              "          const docLink = document.createElement('div');\n",
              "          docLink.innerHTML = docLinkHtml;\n",
              "          element.appendChild(docLink);\n",
              "        }\n",
              "      </script>\n",
              "    </div>\n",
              "  </div>\n",
              "  "
            ]
          },
          "metadata": {},
          "execution_count": 4
        }
      ]
    },
    {
      "cell_type": "markdown",
      "source": [
        "Удалили 1463 записи.\n",
        "\n"
      ],
      "metadata": {
        "id": "vm_q6tNjcd1X"
      }
    },
    {
      "cell_type": "markdown",
      "source": [
        "### Анализ данных\n"
      ],
      "metadata": {
        "id": "HV8JA6Z_0EWT"
      }
    },
    {
      "cell_type": "code",
      "source": [
        "# Распределение по половому признаку: женщины - 65%, мужчины - 35% \n",
        "df_work['gender'].value_counts()"
      ],
      "metadata": {
        "colab": {
          "base_uri": "https://localhost:8080/"
        },
        "id": "bBnmYxR06jWP",
        "outputId": "1fb2337e-e6b7-4446-81dc-e3a5188744b7"
      },
      "execution_count": null,
      "outputs": [
        {
          "output_type": "execute_result",
          "data": {
            "text/plain": [
              "1    44647\n",
              "2    23890\n",
              "Name: gender, dtype: int64"
            ]
          },
          "metadata": {},
          "execution_count": 58
        }
      ]
    },
    {
      "cell_type": "code",
      "source": [
        "# Диагностировано ССЗ - 49%, нет - 51%\n",
        "df_work['cardio'].value_counts() "
      ],
      "metadata": {
        "colab": {
          "base_uri": "https://localhost:8080/"
        },
        "id": "GDQXfxb3GP6B",
        "outputId": "a4c0dbe7-9eb2-4b7a-fef7-f882bd19bef9"
      },
      "execution_count": null,
      "outputs": [
        {
          "output_type": "execute_result",
          "data": {
            "text/plain": [
              "0    34624\n",
              "1    33913\n",
              "Name: cardio, dtype: int64"
            ]
          },
          "metadata": {},
          "execution_count": 59
        }
      ]
    },
    {
      "cell_type": "code",
      "source": [
        "# Доля заболевших среди женщин - 49%, среди мужчин - 50%\n",
        "df_work[['gender', 'cardio']].value_counts()"
      ],
      "metadata": {
        "colab": {
          "base_uri": "https://localhost:8080/"
        },
        "id": "emhTOsGi17sj",
        "outputId": "c9ca24b7-f672-4269-f47b-1b937d659038"
      },
      "execution_count": null,
      "outputs": [
        {
          "output_type": "execute_result",
          "data": {
            "text/plain": [
              "gender  cardio\n",
              "1       0         22672\n",
              "        1         21975\n",
              "2       0         11952\n",
              "        1         11938\n",
              "dtype: int64"
            ]
          },
          "metadata": {},
          "execution_count": 61
        }
      ]
    },
    {
      "cell_type": "code",
      "source": [
        "# Сформируем таблицу: заболеваемость ССЗ среди пациентов, имеющих нормальные/положительные значения признаков \n",
        "# condition - Условие отбора определенного признака\n",
        "# part_of_all - доля отобранных пациентов от общего количества, %\n",
        "# cardio_part_of_all - доля диагностирования ССЗ у отобранных пациентов \n",
        "df_work_info = pd.DataFrame(columns=['condition', 'part_of_all', 'cardio_part_of_all'])\n"
      ],
      "metadata": {
        "id": "mYSunctWgOPY"
      },
      "execution_count": null,
      "outputs": []
    },
    {
      "cell_type": "code",
      "source": [
        "# Функция рассчитывает коэффициенты part_of_all и cardio_part_of_all и добавляет данные в df_work_info\n",
        "def normal_feature_values(feature_condition, filter):\n",
        "  global df_work_info\n",
        "  norm_feature_percent = round(df_work.loc[filter]['id'].count() / df_work['id'].count() * 100, 1)\n",
        "  norm_feature_cardio_percent = round(df_work.loc[filter & df_work.cardio == 1]['id'].count() / df_work.loc[filter]['id'].count() *100,1)\n",
        "  df_work_info = df_work_info.append({'condition' : feature_condition, \n",
        "                                      'part_of_all' : norm_feature_percent, \n",
        "                                      'cardio_part_of_all' : norm_feature_cardio_percent}, \n",
        "                                     ignore_index=True)\n",
        "  "
      ],
      "metadata": {
        "id": "_xND9o7Cdqew"
      },
      "execution_count": null,
      "outputs": []
    },
    {
      "cell_type": "code",
      "source": [
        "normal_feature_values('ИМТ в норме', (df_work.BMI > 18) & (df_work.BMI < 25))\n",
        "normal_feature_values('Давление ap_hi в норме', (df_work.ap_hi >120) & (df_work.ap_hi < 145))\n",
        "normal_feature_values('Холестерин в норме', df_work.cholesterol == 1)\n",
        "normal_feature_values('Сахар в норме', df_work.gluc == 1)\n",
        "normal_feature_values('Не курят', df_work.smoke == 0)\n",
        "normal_feature_values('Не употребляют алкоголь', df_work.alco == 0)\n",
        "normal_feature_values('Физически активны', df_work.active == 1)\n",
        "normal_feature_values('Не курят, не пьют, физически активны', (df_work.smoke == 0) & (df_work.alco == 0) & (df_work.active == 1))\n",
        "normal_feature_values('Курят, пьют, физически не активны', ~((df_work.smoke == 0) & (df_work.alco == 0) & (df_work.active == 1)))\n",
        "\n",
        "filter_health = ((df_work.BMI > 18) & (df_work.BMI < 25)) & ((df_work.ap_hi >120) & (df_work.ap_hi < 145)) & (df_work.cholesterol == 1) & (df_work.gluc == 1)\n",
        "normal_feature_values('Диагностика и ИМТ в норме', filter_health)\n",
        "normal_feature_values('Диагностика и ИМТ не в норме', ~filter_health)"
      ],
      "metadata": {
        "id": "v9QFBcqpmBlG"
      },
      "execution_count": null,
      "outputs": []
    },
    {
      "cell_type": "code",
      "source": [
        "df_work_info"
      ],
      "metadata": {
        "colab": {
          "base_uri": "https://localhost:8080/",
          "height": 394
        },
        "id": "wbL0OYnFoBVL",
        "outputId": "0b2a8f13-0146-4867-a234-c9d36817c3f6"
      },
      "execution_count": null,
      "outputs": [
        {
          "output_type": "execute_result",
          "data": {
            "text/plain": [
              "                               condition  part_of_all  cardio_part_of_all\n",
              "0                            ИМТ в норме         37.4                39.7\n",
              "1                 Давление ap_hi в норме         27.9                69.8\n",
              "2                     Холестерин в норме         75.0                43.6\n",
              "3                          Сахар в норме         85.0                47.6\n",
              "4                               Не курят         91.2                49.7\n",
              "5                Не употребляют алкоголь         94.7                49.6\n",
              "6                      Физически активны         80.3                48.5\n",
              "7   Не курят, не пьют, физически активны         70.7                48.8\n",
              "8      Курят, пьют, физически не активны         29.3                51.1\n",
              "9              Диагностика и ИМТ в норме          4.9                63.2\n",
              "10          Диагностика и ИМТ не в норме         95.1                48.8"
            ],
            "text/html": [
              "\n",
              "  <div id=\"df-8d30fcc9-900a-48bd-8222-e6d30151004f\">\n",
              "    <div class=\"colab-df-container\">\n",
              "      <div>\n",
              "<style scoped>\n",
              "    .dataframe tbody tr th:only-of-type {\n",
              "        vertical-align: middle;\n",
              "    }\n",
              "\n",
              "    .dataframe tbody tr th {\n",
              "        vertical-align: top;\n",
              "    }\n",
              "\n",
              "    .dataframe thead th {\n",
              "        text-align: right;\n",
              "    }\n",
              "</style>\n",
              "<table border=\"1\" class=\"dataframe\">\n",
              "  <thead>\n",
              "    <tr style=\"text-align: right;\">\n",
              "      <th></th>\n",
              "      <th>condition</th>\n",
              "      <th>part_of_all</th>\n",
              "      <th>cardio_part_of_all</th>\n",
              "    </tr>\n",
              "  </thead>\n",
              "  <tbody>\n",
              "    <tr>\n",
              "      <th>0</th>\n",
              "      <td>ИМТ в норме</td>\n",
              "      <td>37.4</td>\n",
              "      <td>39.7</td>\n",
              "    </tr>\n",
              "    <tr>\n",
              "      <th>1</th>\n",
              "      <td>Давление ap_hi в норме</td>\n",
              "      <td>27.9</td>\n",
              "      <td>69.8</td>\n",
              "    </tr>\n",
              "    <tr>\n",
              "      <th>2</th>\n",
              "      <td>Холестерин в норме</td>\n",
              "      <td>75.0</td>\n",
              "      <td>43.6</td>\n",
              "    </tr>\n",
              "    <tr>\n",
              "      <th>3</th>\n",
              "      <td>Сахар в норме</td>\n",
              "      <td>85.0</td>\n",
              "      <td>47.6</td>\n",
              "    </tr>\n",
              "    <tr>\n",
              "      <th>4</th>\n",
              "      <td>Не курят</td>\n",
              "      <td>91.2</td>\n",
              "      <td>49.7</td>\n",
              "    </tr>\n",
              "    <tr>\n",
              "      <th>5</th>\n",
              "      <td>Не употребляют алкоголь</td>\n",
              "      <td>94.7</td>\n",
              "      <td>49.6</td>\n",
              "    </tr>\n",
              "    <tr>\n",
              "      <th>6</th>\n",
              "      <td>Физически активны</td>\n",
              "      <td>80.3</td>\n",
              "      <td>48.5</td>\n",
              "    </tr>\n",
              "    <tr>\n",
              "      <th>7</th>\n",
              "      <td>Не курят, не пьют, физически активны</td>\n",
              "      <td>70.7</td>\n",
              "      <td>48.8</td>\n",
              "    </tr>\n",
              "    <tr>\n",
              "      <th>8</th>\n",
              "      <td>Курят, пьют, физически не активны</td>\n",
              "      <td>29.3</td>\n",
              "      <td>51.1</td>\n",
              "    </tr>\n",
              "    <tr>\n",
              "      <th>9</th>\n",
              "      <td>Диагностика и ИМТ в норме</td>\n",
              "      <td>4.9</td>\n",
              "      <td>63.2</td>\n",
              "    </tr>\n",
              "    <tr>\n",
              "      <th>10</th>\n",
              "      <td>Диагностика и ИМТ не в норме</td>\n",
              "      <td>95.1</td>\n",
              "      <td>48.8</td>\n",
              "    </tr>\n",
              "  </tbody>\n",
              "</table>\n",
              "</div>\n",
              "      <button class=\"colab-df-convert\" onclick=\"convertToInteractive('df-8d30fcc9-900a-48bd-8222-e6d30151004f')\"\n",
              "              title=\"Convert this dataframe to an interactive table.\"\n",
              "              style=\"display:none;\">\n",
              "        \n",
              "  <svg xmlns=\"http://www.w3.org/2000/svg\" height=\"24px\"viewBox=\"0 0 24 24\"\n",
              "       width=\"24px\">\n",
              "    <path d=\"M0 0h24v24H0V0z\" fill=\"none\"/>\n",
              "    <path d=\"M18.56 5.44l.94 2.06.94-2.06 2.06-.94-2.06-.94-.94-2.06-.94 2.06-2.06.94zm-11 1L8.5 8.5l.94-2.06 2.06-.94-2.06-.94L8.5 2.5l-.94 2.06-2.06.94zm10 10l.94 2.06.94-2.06 2.06-.94-2.06-.94-.94-2.06-.94 2.06-2.06.94z\"/><path d=\"M17.41 7.96l-1.37-1.37c-.4-.4-.92-.59-1.43-.59-.52 0-1.04.2-1.43.59L10.3 9.45l-7.72 7.72c-.78.78-.78 2.05 0 2.83L4 21.41c.39.39.9.59 1.41.59.51 0 1.02-.2 1.41-.59l7.78-7.78 2.81-2.81c.8-.78.8-2.07 0-2.86zM5.41 20L4 18.59l7.72-7.72 1.47 1.35L5.41 20z\"/>\n",
              "  </svg>\n",
              "      </button>\n",
              "      \n",
              "  <style>\n",
              "    .colab-df-container {\n",
              "      display:flex;\n",
              "      flex-wrap:wrap;\n",
              "      gap: 12px;\n",
              "    }\n",
              "\n",
              "    .colab-df-convert {\n",
              "      background-color: #E8F0FE;\n",
              "      border: none;\n",
              "      border-radius: 50%;\n",
              "      cursor: pointer;\n",
              "      display: none;\n",
              "      fill: #1967D2;\n",
              "      height: 32px;\n",
              "      padding: 0 0 0 0;\n",
              "      width: 32px;\n",
              "    }\n",
              "\n",
              "    .colab-df-convert:hover {\n",
              "      background-color: #E2EBFA;\n",
              "      box-shadow: 0px 1px 2px rgba(60, 64, 67, 0.3), 0px 1px 3px 1px rgba(60, 64, 67, 0.15);\n",
              "      fill: #174EA6;\n",
              "    }\n",
              "\n",
              "    [theme=dark] .colab-df-convert {\n",
              "      background-color: #3B4455;\n",
              "      fill: #D2E3FC;\n",
              "    }\n",
              "\n",
              "    [theme=dark] .colab-df-convert:hover {\n",
              "      background-color: #434B5C;\n",
              "      box-shadow: 0px 1px 3px 1px rgba(0, 0, 0, 0.15);\n",
              "      filter: drop-shadow(0px 1px 2px rgba(0, 0, 0, 0.3));\n",
              "      fill: #FFFFFF;\n",
              "    }\n",
              "  </style>\n",
              "\n",
              "      <script>\n",
              "        const buttonEl =\n",
              "          document.querySelector('#df-8d30fcc9-900a-48bd-8222-e6d30151004f button.colab-df-convert');\n",
              "        buttonEl.style.display =\n",
              "          google.colab.kernel.accessAllowed ? 'block' : 'none';\n",
              "\n",
              "        async function convertToInteractive(key) {\n",
              "          const element = document.querySelector('#df-8d30fcc9-900a-48bd-8222-e6d30151004f');\n",
              "          const dataTable =\n",
              "            await google.colab.kernel.invokeFunction('convertToInteractive',\n",
              "                                                     [key], {});\n",
              "          if (!dataTable) return;\n",
              "\n",
              "          const docLinkHtml = 'Like what you see? Visit the ' +\n",
              "            '<a target=\"_blank\" href=https://colab.research.google.com/notebooks/data_table.ipynb>data table notebook</a>'\n",
              "            + ' to learn more about interactive tables.';\n",
              "          element.innerHTML = '';\n",
              "          dataTable['output_type'] = 'display_data';\n",
              "          await google.colab.output.renderOutput(dataTable, element);\n",
              "          const docLink = document.createElement('div');\n",
              "          docLink.innerHTML = docLinkHtml;\n",
              "          element.appendChild(docLink);\n",
              "        }\n",
              "      </script>\n",
              "    </div>\n",
              "  </div>\n",
              "  "
            ]
          },
          "metadata": {},
          "execution_count": 19
        }
      ]
    },
    {
      "cell_type": "markdown",
      "source": [
        "####Выводы:\n",
        "Практически одинаковая заболеваемость у пациентов с положительными и отрицательными поведенческими признаками. Поэтому их влияние на риск ССЗ возможно незначительное.\n",
        "\n",
        "Доля нормальных показателей каждого в отдельности велика, в сумме 4.9%, т.е. большинство пациентов имеют хотя бы один признак со значением не в норме.\n",
        "\n",
        "Среди пациентов с нормальными показателями по всем признакам заболеваемость выше средней по датасету. Полагаю, причина во влиянии факторов, не зафиксированных в имеющихся данных."
      ],
      "metadata": {
        "id": "QMWP2mwBwj3L"
      }
    },
    {
      "cell_type": "markdown",
      "source": [
        "### Исследуем зависимости.\n",
        "\n",
        "Исследуем возможные зависимости между признаками. \n",
        "\n",
        "* Связь поведенческих факторов с возникновением ССЗ.\n",
        "* Связь поведенческих факторов с диагностическими  показателями.\n",
        "* Связь диагностических показателей с возникновением ССЗ\n"
      ],
      "metadata": {
        "id": "D2dk8kRV6Awg"
      }
    },
    {
      "cell_type": "markdown",
      "source": [
        "##### Рассмотрим взаимосвязь признаков на основе матрицы корреляции .\n",
        "\n"
      ],
      "metadata": {
        "id": "Fa3CZDlm331m"
      }
    },
    {
      "cell_type": "markdown",
      "source": [
        "Корреляция целевого признака cardio с другими признаками: \n",
        "  \n",
        "   * Диагностические признаки. Положительная корреляция\n",
        "    - давление: ap_hi - 0.43, ap_lo - 0.34\n",
        "    - уровень холестерина: cholesterol - 0.22\n",
        "    - уровень сахара: gluc - 0.09  \n",
        "\n",
        "   * Объективные признаки. Положительная корреляция с признаками возраст  и вес. Невысокие коэффициенты корреляции c признаками пол и рост. \n",
        "    - возраст: age_years - 0.24\n",
        "    - ИМТ: BMI - 0.19\n",
        "  \n",
        "  \n",
        "  * Поведенческие признаки. Невысокие коэффициенты корреляции c признаками курение, алкоголь, физическая активность. Отрицательная корреляция с признаками курение и алкоголь свидетельствует об отсутствии повышенного риска возникновения ССЗ у крящих и принимающих алкоголь людей (нет прямой зависимости). У физически активных людей ниже риск возникновения ССЗ. \n",
        "    - курение: smoke - -0.02\n",
        "    - алкоголь: alco - -0.01\n",
        "    - активность: active - -0.04\n",
        "\n",
        "Взаимосвязь поведенческих и диагностических признаков. Диагностические признаки имеют положительную связь, невысокие коэффициенты корреляции (0.01 - 0.04) с признаками smoke и alco \n",
        "\n",
        "Из объективных признаков рассмотрим отдельно взаимосвязь веса с поведенческими и диагностическими признаками. Вес во многом зависит от образа жизни, питания, а излишний вес (ожирение) является одной из причин возникновения различных заболеваний, в т.ч. сердечно-сосудистых и приводит к изменению различных диагностических признаков. \n",
        "\n",
        "  * Диагностические признаки. Положительная корреляция\n",
        "    - давление: ap_hi - 0.25, ap_lo - 0.27\n",
        "    - уровень холестерина: cholesterol - 0.17\n",
        "    - уровень сахара: gluc - 0.12  \n",
        "\n",
        "  * Поведенческие признаки. \n",
        "    - курение: smoke - -0.03\n",
        "    - алкоголь: alco - 0.02\n",
        "    - активность: active - -0.01\n",
        "\n",
        "В части физической активности можно однозначно сказать, что большая активность способствует снижению веса. Отрицательный коэффициент корреляции с признаком smoke подтверждает факт увеличения веса у бросивших курить. В части алкоголя сложно определить причинную связь: алкоголь способствуют увеличению веса или просто среди полных людей больше употребляющих алкоголь. "
      ],
      "metadata": {
        "id": "gX6l_eXew4v4"
      }
    },
    {
      "cell_type": "code",
      "source": [
        "df_work.corr(method = 'pearson').style.background_gradient(cmap='coolwarm').set_precision(2)"
      ],
      "metadata": {
        "colab": {
          "base_uri": "https://localhost:8080/",
          "height": 554
        },
        "id": "MxpHjht2-yDr",
        "outputId": "e109c047-5966-44ab-b4d2-32586b316a67"
      },
      "execution_count": null,
      "outputs": [
        {
          "output_type": "stream",
          "name": "stderr",
          "text": [
            "/usr/local/lib/python3.7/dist-packages/ipykernel_launcher.py:1: FutureWarning: this method is deprecated in favour of `Styler.format(precision=..)`\n",
            "  \"\"\"Entry point for launching an IPython kernel.\n"
          ]
        },
        {
          "output_type": "execute_result",
          "data": {
            "text/plain": [
              "<pandas.io.formats.style.Styler at 0x7f3f94f4e8d0>"
            ],
            "text/html": [
              "<style type=\"text/css\">\n",
              "#T_21302_row0_col0, #T_21302_row1_col1, #T_21302_row1_col13, #T_21302_row2_col2, #T_21302_row3_col3, #T_21302_row4_col4, #T_21302_row5_col5, #T_21302_row6_col6, #T_21302_row7_col7, #T_21302_row8_col8, #T_21302_row9_col9, #T_21302_row10_col10, #T_21302_row11_col11, #T_21302_row12_col12, #T_21302_row13_col1, #T_21302_row13_col13, #T_21302_row14_col14 {\n",
              "  background-color: #b40426;\n",
              "  color: #f1f1f1;\n",
              "}\n",
              "#T_21302_row0_col1, #T_21302_row0_col13, #T_21302_row9_col4, #T_21302_row10_col4, #T_21302_row10_col7 {\n",
              "  background-color: #5470de;\n",
              "  color: #f1f1f1;\n",
              "}\n",
              "#T_21302_row0_col2 {\n",
              "  background-color: #5a78e4;\n",
              "  color: #f1f1f1;\n",
              "}\n",
              "#T_21302_row0_col3, #T_21302_row0_col14, #T_21302_row2_col4, #T_21302_row8_col1, #T_21302_row8_col13 {\n",
              "  background-color: #7093f3;\n",
              "  color: #f1f1f1;\n",
              "}\n",
              "#T_21302_row0_col4, #T_21302_row9_col8, #T_21302_row11_col8, #T_21302_row14_col9 {\n",
              "  background-color: #3e51c5;\n",
              "  color: #f1f1f1;\n",
              "}\n",
              "#T_21302_row0_col5, #T_21302_row0_col6, #T_21302_row1_col9, #T_21302_row1_col10, #T_21302_row2_col8, #T_21302_row3_col0, #T_21302_row3_col1, #T_21302_row3_col7, #T_21302_row3_col8, #T_21302_row3_col13, #T_21302_row3_col14, #T_21302_row4_col0, #T_21302_row6_col0, #T_21302_row9_col0, #T_21302_row11_col4, #T_21302_row11_col5, #T_21302_row11_col6, #T_21302_row11_col12, #T_21302_row12_col11, #T_21302_row13_col9, #T_21302_row13_col10, #T_21302_row14_col0, #T_21302_row14_col2, #T_21302_row14_col3 {\n",
              "  background-color: #3b4cc0;\n",
              "  color: #f1f1f1;\n",
              "}\n",
              "#T_21302_row0_col7, #T_21302_row2_col1, #T_21302_row2_col13, #T_21302_row7_col9 {\n",
              "  background-color: #4b64d5;\n",
              "  color: #f1f1f1;\n",
              "}\n",
              "#T_21302_row0_col8, #T_21302_row9_col12, #T_21302_row12_col10, #T_21302_row14_col11 {\n",
              "  background-color: #4055c8;\n",
              "  color: #f1f1f1;\n",
              "}\n",
              "#T_21302_row0_col9, #T_21302_row0_col11, #T_21302_row0_col12, #T_21302_row2_col11, #T_21302_row8_col9 {\n",
              "  background-color: #465ecf;\n",
              "  color: #f1f1f1;\n",
              "}\n",
              "#T_21302_row0_col10, #T_21302_row3_col11, #T_21302_row8_col11, #T_21302_row9_col5, #T_21302_row10_col8, #T_21302_row10_col12, #T_21302_row12_col9 {\n",
              "  background-color: #4358cb;\n",
              "  color: #f1f1f1;\n",
              "}\n",
              "#T_21302_row1_col0, #T_21302_row2_col0, #T_21302_row5_col0, #T_21302_row8_col0, #T_21302_row10_col0, #T_21302_row11_col0, #T_21302_row12_col0, #T_21302_row13_col0 {\n",
              "  background-color: #3c4ec2;\n",
              "  color: #f1f1f1;\n",
              "}\n",
              "#T_21302_row1_col2, #T_21302_row8_col2, #T_21302_row13_col2 {\n",
              "  background-color: #536edd;\n",
              "  color: #f1f1f1;\n",
              "}\n",
              "#T_21302_row1_col3, #T_21302_row13_col3 {\n",
              "  background-color: #5977e3;\n",
              "  color: #f1f1f1;\n",
              "}\n",
              "#T_21302_row1_col4, #T_21302_row5_col9, #T_21302_row13_col4 {\n",
              "  background-color: #506bda;\n",
              "  color: #f1f1f1;\n",
              "}\n",
              "#T_21302_row1_col5, #T_21302_row4_col12, #T_21302_row13_col5 {\n",
              "  background-color: #7ea1fa;\n",
              "  color: #f1f1f1;\n",
              "}\n",
              "#T_21302_row1_col6, #T_21302_row5_col2, #T_21302_row7_col4, #T_21302_row11_col14, #T_21302_row13_col6 {\n",
              "  background-color: #6c8ff1;\n",
              "  color: #f1f1f1;\n",
              "}\n",
              "#T_21302_row1_col7, #T_21302_row6_col3, #T_21302_row13_col7 {\n",
              "  background-color: #7b9ff9;\n",
              "  color: #f1f1f1;\n",
              "}\n",
              "#T_21302_row1_col8, #T_21302_row13_col8 {\n",
              "  background-color: #5f7fe8;\n",
              "  color: #f1f1f1;\n",
              "}\n",
              "#T_21302_row1_col11, #T_21302_row3_col12, #T_21302_row9_col6, #T_21302_row13_col11 {\n",
              "  background-color: #4257c9;\n",
              "  color: #f1f1f1;\n",
              "}\n",
              "#T_21302_row1_col12, #T_21302_row6_col4, #T_21302_row13_col12, #T_21302_row14_col5 {\n",
              "  background-color: #93b5fe;\n",
              "  color: #000000;\n",
              "}\n",
              "#T_21302_row1_col14, #T_21302_row4_col6, #T_21302_row10_col2, #T_21302_row13_col14 {\n",
              "  background-color: #8fb1fe;\n",
              "  color: #000000;\n",
              "}\n",
              "#T_21302_row2_col3 {\n",
              "  background-color: #f2cab5;\n",
              "  color: #000000;\n",
              "}\n",
              "#T_21302_row2_col5, #T_21302_row5_col10, #T_21302_row6_col10 {\n",
              "  background-color: #4e68d8;\n",
              "  color: #f1f1f1;\n",
              "}\n",
              "#T_21302_row2_col6, #T_21302_row6_col9, #T_21302_row7_col2, #T_21302_row11_col1, #T_21302_row11_col9, #T_21302_row11_col13 {\n",
              "  background-color: #4f69d9;\n",
              "  color: #f1f1f1;\n",
              "}\n",
              "#T_21302_row2_col7, #T_21302_row3_col5, #T_21302_row4_col11 {\n",
              "  background-color: #3f53c6;\n",
              "  color: #f1f1f1;\n",
              "}\n",
              "#T_21302_row2_col9, #T_21302_row6_col14, #T_21302_row10_col9 {\n",
              "  background-color: #b6cefa;\n",
              "  color: #000000;\n",
              "}\n",
              "#T_21302_row2_col10, #T_21302_row12_col4 {\n",
              "  background-color: #799cf8;\n",
              "  color: #f1f1f1;\n",
              "}\n",
              "#T_21302_row2_col12, #T_21302_row7_col11, #T_21302_row14_col10 {\n",
              "  background-color: #485fd1;\n",
              "  color: #f1f1f1;\n",
              "}\n",
              "#T_21302_row2_col14, #T_21302_row8_col6 {\n",
              "  background-color: #516ddb;\n",
              "  color: #f1f1f1;\n",
              "}\n",
              "#T_21302_row3_col2 {\n",
              "  background-color: #edd2c3;\n",
              "  color: #000000;\n",
              "}\n",
              "#T_21302_row3_col4 {\n",
              "  background-color: #a5c3fe;\n",
              "  color: #000000;\n",
              "}\n",
              "#T_21302_row3_col6, #T_21302_row6_col11, #T_21302_row8_col10, #T_21302_row9_col1, #T_21302_row9_col13, #T_21302_row10_col5, #T_21302_row10_col6 {\n",
              "  background-color: #455cce;\n",
              "  color: #f1f1f1;\n",
              "}\n",
              "#T_21302_row3_col9 {\n",
              "  background-color: #86a9fc;\n",
              "  color: #f1f1f1;\n",
              "}\n",
              "#T_21302_row3_col10, #T_21302_row7_col3, #T_21302_row8_col4, #T_21302_row8_col12 {\n",
              "  background-color: #6180e9;\n",
              "  color: #f1f1f1;\n",
              "}\n",
              "#T_21302_row4_col1, #T_21302_row4_col13 {\n",
              "  background-color: #6384eb;\n",
              "  color: #f1f1f1;\n",
              "}\n",
              "#T_21302_row4_col2, #T_21302_row14_col6 {\n",
              "  background-color: #89acfd;\n",
              "  color: #000000;\n",
              "}\n",
              "#T_21302_row4_col3 {\n",
              "  background-color: #c7d7f0;\n",
              "  color: #000000;\n",
              "}\n",
              "#T_21302_row4_col5, #T_21302_row5_col1, #T_21302_row5_col13, #T_21302_row8_col14 {\n",
              "  background-color: #94b6ff;\n",
              "  color: #000000;\n",
              "}\n",
              "#T_21302_row4_col7, #T_21302_row5_col3, #T_21302_row10_col14 {\n",
              "  background-color: #7699f6;\n",
              "  color: #f1f1f1;\n",
              "}\n",
              "#T_21302_row4_col8 {\n",
              "  background-color: #6282ea;\n",
              "  color: #f1f1f1;\n",
              "}\n",
              "#T_21302_row4_col9, #T_21302_row5_col8 {\n",
              "  background-color: #5d7ce6;\n",
              "  color: #f1f1f1;\n",
              "}\n",
              "#T_21302_row4_col10 {\n",
              "  background-color: #5673e0;\n",
              "  color: #f1f1f1;\n",
              "}\n",
              "#T_21302_row4_col14 {\n",
              "  background-color: #da5a49;\n",
              "  color: #f1f1f1;\n",
              "}\n",
              "#T_21302_row5_col4 {\n",
              "  background-color: #98b9ff;\n",
              "  color: #000000;\n",
              "}\n",
              "#T_21302_row5_col6, #T_21302_row6_col5 {\n",
              "  background-color: #f59f80;\n",
              "  color: #000000;\n",
              "}\n",
              "#T_21302_row5_col7 {\n",
              "  background-color: #88abfd;\n",
              "  color: #000000;\n",
              "}\n",
              "#T_21302_row5_col11 {\n",
              "  background-color: #445acc;\n",
              "  color: #f1f1f1;\n",
              "}\n",
              "#T_21302_row5_col12 {\n",
              "  background-color: #cedaeb;\n",
              "  color: #000000;\n",
              "}\n",
              "#T_21302_row5_col14 {\n",
              "  background-color: #bed2f6;\n",
              "  color: #000000;\n",
              "}\n",
              "#T_21302_row6_col1, #T_21302_row6_col13 {\n",
              "  background-color: #84a7fc;\n",
              "  color: #f1f1f1;\n",
              "}\n",
              "#T_21302_row6_col2, #T_21302_row7_col6, #T_21302_row11_col3, #T_21302_row12_col3 {\n",
              "  background-color: #6e90f2;\n",
              "  color: #f1f1f1;\n",
              "}\n",
              "#T_21302_row6_col7 {\n",
              "  background-color: #7da0f9;\n",
              "  color: #f1f1f1;\n",
              "}\n",
              "#T_21302_row6_col8, #T_21302_row8_col5 {\n",
              "  background-color: #5875e1;\n",
              "  color: #f1f1f1;\n",
              "}\n",
              "#T_21302_row6_col12 {\n",
              "  background-color: #b5cdfa;\n",
              "  color: #000000;\n",
              "}\n",
              "#T_21302_row7_col0 {\n",
              "  background-color: #3d50c3;\n",
              "  color: #f1f1f1;\n",
              "}\n",
              "#T_21302_row7_col1, #T_21302_row7_col13, #T_21302_row14_col12 {\n",
              "  background-color: #82a6fb;\n",
              "  color: #f1f1f1;\n",
              "}\n",
              "#T_21302_row7_col5 {\n",
              "  background-color: #7a9df8;\n",
              "  color: #f1f1f1;\n",
              "}\n",
              "#T_21302_row7_col8 {\n",
              "  background-color: #d3dbe7;\n",
              "  color: #000000;\n",
              "}\n",
              "#T_21302_row7_col10, #T_21302_row9_col7, #T_21302_row9_col11, #T_21302_row10_col11, #T_21302_row11_col7 {\n",
              "  background-color: #4c66d6;\n",
              "  color: #f1f1f1;\n",
              "}\n",
              "#T_21302_row7_col12 {\n",
              "  background-color: #8caffe;\n",
              "  color: #000000;\n",
              "}\n",
              "#T_21302_row7_col14 {\n",
              "  background-color: #a3c2fe;\n",
              "  color: #000000;\n",
              "}\n",
              "#T_21302_row8_col3 {\n",
              "  background-color: #6b8df0;\n",
              "  color: #f1f1f1;\n",
              "}\n",
              "#T_21302_row8_col7 {\n",
              "  background-color: #d7dce3;\n",
              "  color: #000000;\n",
              "}\n",
              "#T_21302_row9_col2 {\n",
              "  background-color: #c1d4f4;\n",
              "  color: #000000;\n",
              "}\n",
              "#T_21302_row9_col3 {\n",
              "  background-color: #aac7fd;\n",
              "  color: #000000;\n",
              "}\n",
              "#T_21302_row9_col10 {\n",
              "  background-color: #b2ccfb;\n",
              "  color: #000000;\n",
              "}\n",
              "#T_21302_row9_col14 {\n",
              "  background-color: #6788ee;\n",
              "  color: #f1f1f1;\n",
              "}\n",
              "#T_21302_row10_col1, #T_21302_row10_col13, #T_21302_row11_col10 {\n",
              "  background-color: #4a63d3;\n",
              "  color: #f1f1f1;\n",
              "}\n",
              "#T_21302_row10_col3 {\n",
              "  background-color: #8db0fe;\n",
              "  color: #000000;\n",
              "}\n",
              "#T_21302_row11_col2, #T_21302_row12_col2, #T_21302_row12_col8 {\n",
              "  background-color: #5b7ae5;\n",
              "  color: #f1f1f1;\n",
              "}\n",
              "#T_21302_row12_col1, #T_21302_row12_col13 {\n",
              "  background-color: #9ebeff;\n",
              "  color: #000000;\n",
              "}\n",
              "#T_21302_row12_col5 {\n",
              "  background-color: #c9d7f0;\n",
              "  color: #000000;\n",
              "}\n",
              "#T_21302_row12_col6 {\n",
              "  background-color: #adc9fd;\n",
              "  color: #000000;\n",
              "}\n",
              "#T_21302_row12_col7 {\n",
              "  background-color: #92b4fe;\n",
              "  color: #000000;\n",
              "}\n",
              "#T_21302_row12_col14 {\n",
              "  background-color: #a9c6fd;\n",
              "  color: #000000;\n",
              "}\n",
              "#T_21302_row14_col1, #T_21302_row14_col13 {\n",
              "  background-color: #7295f4;\n",
              "  color: #f1f1f1;\n",
              "}\n",
              "#T_21302_row14_col4 {\n",
              "  background-color: #e0654f;\n",
              "  color: #f1f1f1;\n",
              "}\n",
              "#T_21302_row14_col7 {\n",
              "  background-color: #81a4fb;\n",
              "  color: #f1f1f1;\n",
              "}\n",
              "#T_21302_row14_col8 {\n",
              "  background-color: #6687ed;\n",
              "  color: #f1f1f1;\n",
              "}\n",
              "</style>\n",
              "<table id=\"T_21302_\" class=\"dataframe\">\n",
              "  <thead>\n",
              "    <tr>\n",
              "      <th class=\"blank level0\" >&nbsp;</th>\n",
              "      <th class=\"col_heading level0 col0\" >id</th>\n",
              "      <th class=\"col_heading level0 col1\" >age</th>\n",
              "      <th class=\"col_heading level0 col2\" >gender</th>\n",
              "      <th class=\"col_heading level0 col3\" >height</th>\n",
              "      <th class=\"col_heading level0 col4\" >weight</th>\n",
              "      <th class=\"col_heading level0 col5\" >ap_hi</th>\n",
              "      <th class=\"col_heading level0 col6\" >ap_lo</th>\n",
              "      <th class=\"col_heading level0 col7\" >cholesterol</th>\n",
              "      <th class=\"col_heading level0 col8\" >gluc</th>\n",
              "      <th class=\"col_heading level0 col9\" >smoke</th>\n",
              "      <th class=\"col_heading level0 col10\" >alco</th>\n",
              "      <th class=\"col_heading level0 col11\" >active</th>\n",
              "      <th class=\"col_heading level0 col12\" >cardio</th>\n",
              "      <th class=\"col_heading level0 col13\" >age_years</th>\n",
              "      <th class=\"col_heading level0 col14\" >BMI</th>\n",
              "    </tr>\n",
              "  </thead>\n",
              "  <tbody>\n",
              "    <tr>\n",
              "      <th id=\"T_21302_level0_row0\" class=\"row_heading level0 row0\" >id</th>\n",
              "      <td id=\"T_21302_row0_col0\" class=\"data row0 col0\" >1.00</td>\n",
              "      <td id=\"T_21302_row0_col1\" class=\"data row0 col1\" >0.00</td>\n",
              "      <td id=\"T_21302_row0_col2\" class=\"data row0 col2\" >0.00</td>\n",
              "      <td id=\"T_21302_row0_col3\" class=\"data row0 col3\" >-0.00</td>\n",
              "      <td id=\"T_21302_row0_col4\" class=\"data row0 col4\" >-0.00</td>\n",
              "      <td id=\"T_21302_row0_col5\" class=\"data row0 col5\" >0.00</td>\n",
              "      <td id=\"T_21302_row0_col6\" class=\"data row0 col6\" >-0.00</td>\n",
              "      <td id=\"T_21302_row0_col7\" class=\"data row0 col7\" >0.01</td>\n",
              "      <td id=\"T_21302_row0_col8\" class=\"data row0 col8\" >0.00</td>\n",
              "      <td id=\"T_21302_row0_col9\" class=\"data row0 col9\" >-0.00</td>\n",
              "      <td id=\"T_21302_row0_col10\" class=\"data row0 col10\" >0.00</td>\n",
              "      <td id=\"T_21302_row0_col11\" class=\"data row0 col11\" >0.00</td>\n",
              "      <td id=\"T_21302_row0_col12\" class=\"data row0 col12\" >0.00</td>\n",
              "      <td id=\"T_21302_row0_col13\" class=\"data row0 col13\" >0.00</td>\n",
              "      <td id=\"T_21302_row0_col14\" class=\"data row0 col14\" >-0.00</td>\n",
              "    </tr>\n",
              "    <tr>\n",
              "      <th id=\"T_21302_level0_row1\" class=\"row_heading level0 row1\" >age</th>\n",
              "      <td id=\"T_21302_row1_col0\" class=\"data row1 col0\" >0.00</td>\n",
              "      <td id=\"T_21302_row1_col1\" class=\"data row1 col1\" >1.00</td>\n",
              "      <td id=\"T_21302_row1_col2\" class=\"data row1 col2\" >-0.02</td>\n",
              "      <td id=\"T_21302_row1_col3\" class=\"data row1 col3\" >-0.09</td>\n",
              "      <td id=\"T_21302_row1_col4\" class=\"data row1 col4\" >0.06</td>\n",
              "      <td id=\"T_21302_row1_col5\" class=\"data row1 col5\" >0.21</td>\n",
              "      <td id=\"T_21302_row1_col6\" class=\"data row1 col6\" >0.16</td>\n",
              "      <td id=\"T_21302_row1_col7\" class=\"data row1 col7\" >0.16</td>\n",
              "      <td id=\"T_21302_row1_col8\" class=\"data row1 col8\" >0.10</td>\n",
              "      <td id=\"T_21302_row1_col9\" class=\"data row1 col9\" >-0.05</td>\n",
              "      <td id=\"T_21302_row1_col10\" class=\"data row1 col10\" >-0.03</td>\n",
              "      <td id=\"T_21302_row1_col11\" class=\"data row1 col11\" >-0.01</td>\n",
              "      <td id=\"T_21302_row1_col12\" class=\"data row1 col12\" >0.24</td>\n",
              "      <td id=\"T_21302_row1_col13\" class=\"data row1 col13\" >1.00</td>\n",
              "      <td id=\"T_21302_row1_col14\" class=\"data row1 col14\" >0.10</td>\n",
              "    </tr>\n",
              "    <tr>\n",
              "      <th id=\"T_21302_level0_row2\" class=\"row_heading level0 row2\" >gender</th>\n",
              "      <td id=\"T_21302_row2_col0\" class=\"data row2 col0\" >0.00</td>\n",
              "      <td id=\"T_21302_row2_col1\" class=\"data row2 col1\" >-0.02</td>\n",
              "      <td id=\"T_21302_row2_col2\" class=\"data row2 col2\" >1.00</td>\n",
              "      <td id=\"T_21302_row2_col3\" class=\"data row2 col3\" >0.52</td>\n",
              "      <td id=\"T_21302_row2_col4\" class=\"data row2 col4\" >0.16</td>\n",
              "      <td id=\"T_21302_row2_col5\" class=\"data row2 col5\" >0.06</td>\n",
              "      <td id=\"T_21302_row2_col6\" class=\"data row2 col6\" >0.07</td>\n",
              "      <td id=\"T_21302_row2_col7\" class=\"data row2 col7\" >-0.04</td>\n",
              "      <td id=\"T_21302_row2_col8\" class=\"data row2 col8\" >-0.02</td>\n",
              "      <td id=\"T_21302_row2_col9\" class=\"data row2 col9\" >0.34</td>\n",
              "      <td id=\"T_21302_row2_col10\" class=\"data row2 col10\" >0.17</td>\n",
              "      <td id=\"T_21302_row2_col11\" class=\"data row2 col11\" >0.01</td>\n",
              "      <td id=\"T_21302_row2_col12\" class=\"data row2 col12\" >0.01</td>\n",
              "      <td id=\"T_21302_row2_col13\" class=\"data row2 col13\" >-0.02</td>\n",
              "      <td id=\"T_21302_row2_col14\" class=\"data row2 col14\" >-0.11</td>\n",
              "    </tr>\n",
              "    <tr>\n",
              "      <th id=\"T_21302_level0_row3\" class=\"row_heading level0 row3\" >height</th>\n",
              "      <td id=\"T_21302_row3_col0\" class=\"data row3 col0\" >-0.00</td>\n",
              "      <td id=\"T_21302_row3_col1\" class=\"data row3 col1\" >-0.09</td>\n",
              "      <td id=\"T_21302_row3_col2\" class=\"data row3 col2\" >0.52</td>\n",
              "      <td id=\"T_21302_row3_col3\" class=\"data row3 col3\" >1.00</td>\n",
              "      <td id=\"T_21302_row3_col4\" class=\"data row3 col4\" >0.31</td>\n",
              "      <td id=\"T_21302_row3_col5\" class=\"data row3 col5\" >0.02</td>\n",
              "      <td id=\"T_21302_row3_col6\" class=\"data row3 col6\" >0.03</td>\n",
              "      <td id=\"T_21302_row3_col7\" class=\"data row3 col7\" >-0.06</td>\n",
              "      <td id=\"T_21302_row3_col8\" class=\"data row3 col8\" >-0.02</td>\n",
              "      <td id=\"T_21302_row3_col9\" class=\"data row3 col9\" >0.20</td>\n",
              "      <td id=\"T_21302_row3_col10\" class=\"data row3 col10\" >0.10</td>\n",
              "      <td id=\"T_21302_row3_col11\" class=\"data row3 col11\" >-0.01</td>\n",
              "      <td id=\"T_21302_row3_col12\" class=\"data row3 col12\" >-0.01</td>\n",
              "      <td id=\"T_21302_row3_col13\" class=\"data row3 col13\" >-0.09</td>\n",
              "      <td id=\"T_21302_row3_col14\" class=\"data row3 col14\" >-0.21</td>\n",
              "    </tr>\n",
              "    <tr>\n",
              "      <th id=\"T_21302_level0_row4\" class=\"row_heading level0 row4\" >weight</th>\n",
              "      <td id=\"T_21302_row4_col0\" class=\"data row4 col0\" >-0.00</td>\n",
              "      <td id=\"T_21302_row4_col1\" class=\"data row4 col1\" >0.06</td>\n",
              "      <td id=\"T_21302_row4_col2\" class=\"data row4 col2\" >0.16</td>\n",
              "      <td id=\"T_21302_row4_col3\" class=\"data row4 col3\" >0.31</td>\n",
              "      <td id=\"T_21302_row4_col4\" class=\"data row4 col4\" >1.00</td>\n",
              "      <td id=\"T_21302_row4_col5\" class=\"data row4 col5\" >0.27</td>\n",
              "      <td id=\"T_21302_row4_col6\" class=\"data row4 col6\" >0.25</td>\n",
              "      <td id=\"T_21302_row4_col7\" class=\"data row4 col7\" >0.14</td>\n",
              "      <td id=\"T_21302_row4_col8\" class=\"data row4 col8\" >0.11</td>\n",
              "      <td id=\"T_21302_row4_col9\" class=\"data row4 col9\" >0.07</td>\n",
              "      <td id=\"T_21302_row4_col10\" class=\"data row4 col10\" >0.07</td>\n",
              "      <td id=\"T_21302_row4_col11\" class=\"data row4 col11\" >-0.02</td>\n",
              "      <td id=\"T_21302_row4_col12\" class=\"data row4 col12\" >0.18</td>\n",
              "      <td id=\"T_21302_row4_col13\" class=\"data row4 col13\" >0.06</td>\n",
              "      <td id=\"T_21302_row4_col14\" class=\"data row4 col14\" >0.86</td>\n",
              "    </tr>\n",
              "    <tr>\n",
              "      <th id=\"T_21302_level0_row5\" class=\"row_heading level0 row5\" >ap_hi</th>\n",
              "      <td id=\"T_21302_row5_col0\" class=\"data row5 col0\" >0.00</td>\n",
              "      <td id=\"T_21302_row5_col1\" class=\"data row5 col1\" >0.21</td>\n",
              "      <td id=\"T_21302_row5_col2\" class=\"data row5 col2\" >0.06</td>\n",
              "      <td id=\"T_21302_row5_col3\" class=\"data row5 col3\" >0.02</td>\n",
              "      <td id=\"T_21302_row5_col4\" class=\"data row5 col4\" >0.27</td>\n",
              "      <td id=\"T_21302_row5_col5\" class=\"data row5 col5\" >1.00</td>\n",
              "      <td id=\"T_21302_row5_col6\" class=\"data row5 col6\" >0.74</td>\n",
              "      <td id=\"T_21302_row5_col7\" class=\"data row5 col7\" >0.20</td>\n",
              "      <td id=\"T_21302_row5_col8\" class=\"data row5 col8\" >0.09</td>\n",
              "      <td id=\"T_21302_row5_col9\" class=\"data row5 col9\" >0.03</td>\n",
              "      <td id=\"T_21302_row5_col10\" class=\"data row5 col10\" >0.04</td>\n",
              "      <td id=\"T_21302_row5_col11\" class=\"data row5 col11\" >-0.00</td>\n",
              "      <td id=\"T_21302_row5_col12\" class=\"data row5 col12\" >0.43</td>\n",
              "      <td id=\"T_21302_row5_col13\" class=\"data row5 col13\" >0.21</td>\n",
              "      <td id=\"T_21302_row5_col14\" class=\"data row5 col14\" >0.27</td>\n",
              "    </tr>\n",
              "    <tr>\n",
              "      <th id=\"T_21302_level0_row6\" class=\"row_heading level0 row6\" >ap_lo</th>\n",
              "      <td id=\"T_21302_row6_col0\" class=\"data row6 col0\" >-0.00</td>\n",
              "      <td id=\"T_21302_row6_col1\" class=\"data row6 col1\" >0.16</td>\n",
              "      <td id=\"T_21302_row6_col2\" class=\"data row6 col2\" >0.07</td>\n",
              "      <td id=\"T_21302_row6_col3\" class=\"data row6 col3\" >0.03</td>\n",
              "      <td id=\"T_21302_row6_col4\" class=\"data row6 col4\" >0.25</td>\n",
              "      <td id=\"T_21302_row6_col5\" class=\"data row6 col5\" >0.74</td>\n",
              "      <td id=\"T_21302_row6_col6\" class=\"data row6 col6\" >1.00</td>\n",
              "      <td id=\"T_21302_row6_col7\" class=\"data row6 col7\" >0.16</td>\n",
              "      <td id=\"T_21302_row6_col8\" class=\"data row6 col8\" >0.08</td>\n",
              "      <td id=\"T_21302_row6_col9\" class=\"data row6 col9\" >0.03</td>\n",
              "      <td id=\"T_21302_row6_col10\" class=\"data row6 col10\" >0.04</td>\n",
              "      <td id=\"T_21302_row6_col11\" class=\"data row6 col11\" >-0.00</td>\n",
              "      <td id=\"T_21302_row6_col12\" class=\"data row6 col12\" >0.34</td>\n",
              "      <td id=\"T_21302_row6_col13\" class=\"data row6 col13\" >0.16</td>\n",
              "      <td id=\"T_21302_row6_col14\" class=\"data row6 col14\" >0.24</td>\n",
              "    </tr>\n",
              "    <tr>\n",
              "      <th id=\"T_21302_level0_row7\" class=\"row_heading level0 row7\" >cholesterol</th>\n",
              "      <td id=\"T_21302_row7_col0\" class=\"data row7 col0\" >0.01</td>\n",
              "      <td id=\"T_21302_row7_col1\" class=\"data row7 col1\" >0.16</td>\n",
              "      <td id=\"T_21302_row7_col2\" class=\"data row7 col2\" >-0.04</td>\n",
              "      <td id=\"T_21302_row7_col3\" class=\"data row7 col3\" >-0.06</td>\n",
              "      <td id=\"T_21302_row7_col4\" class=\"data row7 col4\" >0.14</td>\n",
              "      <td id=\"T_21302_row7_col5\" class=\"data row7 col5\" >0.20</td>\n",
              "      <td id=\"T_21302_row7_col6\" class=\"data row7 col6\" >0.16</td>\n",
              "      <td id=\"T_21302_row7_col7\" class=\"data row7 col7\" >1.00</td>\n",
              "      <td id=\"T_21302_row7_col8\" class=\"data row7 col8\" >0.45</td>\n",
              "      <td id=\"T_21302_row7_col9\" class=\"data row7 col9\" >0.01</td>\n",
              "      <td id=\"T_21302_row7_col10\" class=\"data row7 col10\" >0.04</td>\n",
              "      <td id=\"T_21302_row7_col11\" class=\"data row7 col11\" >0.01</td>\n",
              "      <td id=\"T_21302_row7_col12\" class=\"data row7 col12\" >0.22</td>\n",
              "      <td id=\"T_21302_row7_col13\" class=\"data row7 col13\" >0.15</td>\n",
              "      <td id=\"T_21302_row7_col14\" class=\"data row7 col14\" >0.17</td>\n",
              "    </tr>\n",
              "    <tr>\n",
              "      <th id=\"T_21302_level0_row8\" class=\"row_heading level0 row8\" >gluc</th>\n",
              "      <td id=\"T_21302_row8_col0\" class=\"data row8 col0\" >0.00</td>\n",
              "      <td id=\"T_21302_row8_col1\" class=\"data row8 col1\" >0.10</td>\n",
              "      <td id=\"T_21302_row8_col2\" class=\"data row8 col2\" >-0.02</td>\n",
              "      <td id=\"T_21302_row8_col3\" class=\"data row8 col3\" >-0.02</td>\n",
              "      <td id=\"T_21302_row8_col4\" class=\"data row8 col4\" >0.11</td>\n",
              "      <td id=\"T_21302_row8_col5\" class=\"data row8 col5\" >0.09</td>\n",
              "      <td id=\"T_21302_row8_col6\" class=\"data row8 col6\" >0.08</td>\n",
              "      <td id=\"T_21302_row8_col7\" class=\"data row8 col7\" >0.45</td>\n",
              "      <td id=\"T_21302_row8_col8\" class=\"data row8 col8\" >1.00</td>\n",
              "      <td id=\"T_21302_row8_col9\" class=\"data row8 col9\" >-0.01</td>\n",
              "      <td id=\"T_21302_row8_col10\" class=\"data row8 col10\" >0.01</td>\n",
              "      <td id=\"T_21302_row8_col11\" class=\"data row8 col11\" >-0.01</td>\n",
              "      <td id=\"T_21302_row8_col12\" class=\"data row8 col12\" >0.09</td>\n",
              "      <td id=\"T_21302_row8_col13\" class=\"data row8 col13\" >0.10</td>\n",
              "      <td id=\"T_21302_row8_col14\" class=\"data row8 col14\" >0.12</td>\n",
              "    </tr>\n",
              "    <tr>\n",
              "      <th id=\"T_21302_level0_row9\" class=\"row_heading level0 row9\" >smoke</th>\n",
              "      <td id=\"T_21302_row9_col0\" class=\"data row9 col0\" >-0.00</td>\n",
              "      <td id=\"T_21302_row9_col1\" class=\"data row9 col1\" >-0.05</td>\n",
              "      <td id=\"T_21302_row9_col2\" class=\"data row9 col2\" >0.34</td>\n",
              "      <td id=\"T_21302_row9_col3\" class=\"data row9 col3\" >0.20</td>\n",
              "      <td id=\"T_21302_row9_col4\" class=\"data row9 col4\" >0.07</td>\n",
              "      <td id=\"T_21302_row9_col5\" class=\"data row9 col5\" >0.03</td>\n",
              "      <td id=\"T_21302_row9_col6\" class=\"data row9 col6\" >0.03</td>\n",
              "      <td id=\"T_21302_row9_col7\" class=\"data row9 col7\" >0.01</td>\n",
              "      <td id=\"T_21302_row9_col8\" class=\"data row9 col8\" >-0.01</td>\n",
              "      <td id=\"T_21302_row9_col9\" class=\"data row9 col9\" >1.00</td>\n",
              "      <td id=\"T_21302_row9_col10\" class=\"data row9 col10\" >0.34</td>\n",
              "      <td id=\"T_21302_row9_col11\" class=\"data row9 col11\" >0.03</td>\n",
              "      <td id=\"T_21302_row9_col12\" class=\"data row9 col12\" >-0.02</td>\n",
              "      <td id=\"T_21302_row9_col13\" class=\"data row9 col13\" >-0.05</td>\n",
              "      <td id=\"T_21302_row9_col14\" class=\"data row9 col14\" >-0.03</td>\n",
              "    </tr>\n",
              "    <tr>\n",
              "      <th id=\"T_21302_level0_row10\" class=\"row_heading level0 row10\" >alco</th>\n",
              "      <td id=\"T_21302_row10_col0\" class=\"data row10 col0\" >0.00</td>\n",
              "      <td id=\"T_21302_row10_col1\" class=\"data row10 col1\" >-0.03</td>\n",
              "      <td id=\"T_21302_row10_col2\" class=\"data row10 col2\" >0.17</td>\n",
              "      <td id=\"T_21302_row10_col3\" class=\"data row10 col3\" >0.10</td>\n",
              "      <td id=\"T_21302_row10_col4\" class=\"data row10 col4\" >0.07</td>\n",
              "      <td id=\"T_21302_row10_col5\" class=\"data row10 col5\" >0.04</td>\n",
              "      <td id=\"T_21302_row10_col6\" class=\"data row10 col6\" >0.04</td>\n",
              "      <td id=\"T_21302_row10_col7\" class=\"data row10 col7\" >0.04</td>\n",
              "      <td id=\"T_21302_row10_col8\" class=\"data row10 col8\" >0.01</td>\n",
              "      <td id=\"T_21302_row10_col9\" class=\"data row10 col9\" >0.34</td>\n",
              "      <td id=\"T_21302_row10_col10\" class=\"data row10 col10\" >1.00</td>\n",
              "      <td id=\"T_21302_row10_col11\" class=\"data row10 col11\" >0.02</td>\n",
              "      <td id=\"T_21302_row10_col12\" class=\"data row10 col12\" >-0.01</td>\n",
              "      <td id=\"T_21302_row10_col13\" class=\"data row10 col13\" >-0.03</td>\n",
              "      <td id=\"T_21302_row10_col14\" class=\"data row10 col14\" >0.02</td>\n",
              "    </tr>\n",
              "    <tr>\n",
              "      <th id=\"T_21302_level0_row11\" class=\"row_heading level0 row11\" >active</th>\n",
              "      <td id=\"T_21302_row11_col0\" class=\"data row11 col0\" >0.00</td>\n",
              "      <td id=\"T_21302_row11_col1\" class=\"data row11 col1\" >-0.01</td>\n",
              "      <td id=\"T_21302_row11_col2\" class=\"data row11 col2\" >0.01</td>\n",
              "      <td id=\"T_21302_row11_col3\" class=\"data row11 col3\" >-0.01</td>\n",
              "      <td id=\"T_21302_row11_col4\" class=\"data row11 col4\" >-0.02</td>\n",
              "      <td id=\"T_21302_row11_col5\" class=\"data row11 col5\" >-0.00</td>\n",
              "      <td id=\"T_21302_row11_col6\" class=\"data row11 col6\" >-0.00</td>\n",
              "      <td id=\"T_21302_row11_col7\" class=\"data row11 col7\" >0.01</td>\n",
              "      <td id=\"T_21302_row11_col8\" class=\"data row11 col8\" >-0.01</td>\n",
              "      <td id=\"T_21302_row11_col9\" class=\"data row11 col9\" >0.03</td>\n",
              "      <td id=\"T_21302_row11_col10\" class=\"data row11 col10\" >0.02</td>\n",
              "      <td id=\"T_21302_row11_col11\" class=\"data row11 col11\" >1.00</td>\n",
              "      <td id=\"T_21302_row11_col12\" class=\"data row11 col12\" >-0.04</td>\n",
              "      <td id=\"T_21302_row11_col13\" class=\"data row11 col13\" >-0.01</td>\n",
              "      <td id=\"T_21302_row11_col14\" class=\"data row11 col14\" >-0.01</td>\n",
              "    </tr>\n",
              "    <tr>\n",
              "      <th id=\"T_21302_level0_row12\" class=\"row_heading level0 row12\" >cardio</th>\n",
              "      <td id=\"T_21302_row12_col0\" class=\"data row12 col0\" >0.00</td>\n",
              "      <td id=\"T_21302_row12_col1\" class=\"data row12 col1\" >0.24</td>\n",
              "      <td id=\"T_21302_row12_col2\" class=\"data row12 col2\" >0.01</td>\n",
              "      <td id=\"T_21302_row12_col3\" class=\"data row12 col3\" >-0.01</td>\n",
              "      <td id=\"T_21302_row12_col4\" class=\"data row12 col4\" >0.18</td>\n",
              "      <td id=\"T_21302_row12_col5\" class=\"data row12 col5\" >0.43</td>\n",
              "      <td id=\"T_21302_row12_col6\" class=\"data row12 col6\" >0.34</td>\n",
              "      <td id=\"T_21302_row12_col7\" class=\"data row12 col7\" >0.22</td>\n",
              "      <td id=\"T_21302_row12_col8\" class=\"data row12 col8\" >0.09</td>\n",
              "      <td id=\"T_21302_row12_col9\" class=\"data row12 col9\" >-0.02</td>\n",
              "      <td id=\"T_21302_row12_col10\" class=\"data row12 col10\" >-0.01</td>\n",
              "      <td id=\"T_21302_row12_col11\" class=\"data row12 col11\" >-0.04</td>\n",
              "      <td id=\"T_21302_row12_col12\" class=\"data row12 col12\" >1.00</td>\n",
              "      <td id=\"T_21302_row12_col13\" class=\"data row12 col13\" >0.24</td>\n",
              "      <td id=\"T_21302_row12_col14\" class=\"data row12 col14\" >0.19</td>\n",
              "    </tr>\n",
              "    <tr>\n",
              "      <th id=\"T_21302_level0_row13\" class=\"row_heading level0 row13\" >age_years</th>\n",
              "      <td id=\"T_21302_row13_col0\" class=\"data row13 col0\" >0.00</td>\n",
              "      <td id=\"T_21302_row13_col1\" class=\"data row13 col1\" >1.00</td>\n",
              "      <td id=\"T_21302_row13_col2\" class=\"data row13 col2\" >-0.02</td>\n",
              "      <td id=\"T_21302_row13_col3\" class=\"data row13 col3\" >-0.09</td>\n",
              "      <td id=\"T_21302_row13_col4\" class=\"data row13 col4\" >0.06</td>\n",
              "      <td id=\"T_21302_row13_col5\" class=\"data row13 col5\" >0.21</td>\n",
              "      <td id=\"T_21302_row13_col6\" class=\"data row13 col6\" >0.16</td>\n",
              "      <td id=\"T_21302_row13_col7\" class=\"data row13 col7\" >0.15</td>\n",
              "      <td id=\"T_21302_row13_col8\" class=\"data row13 col8\" >0.10</td>\n",
              "      <td id=\"T_21302_row13_col9\" class=\"data row13 col9\" >-0.05</td>\n",
              "      <td id=\"T_21302_row13_col10\" class=\"data row13 col10\" >-0.03</td>\n",
              "      <td id=\"T_21302_row13_col11\" class=\"data row13 col11\" >-0.01</td>\n",
              "      <td id=\"T_21302_row13_col12\" class=\"data row13 col12\" >0.24</td>\n",
              "      <td id=\"T_21302_row13_col13\" class=\"data row13 col13\" >1.00</td>\n",
              "      <td id=\"T_21302_row13_col14\" class=\"data row13 col14\" >0.10</td>\n",
              "    </tr>\n",
              "    <tr>\n",
              "      <th id=\"T_21302_level0_row14\" class=\"row_heading level0 row14\" >BMI</th>\n",
              "      <td id=\"T_21302_row14_col0\" class=\"data row14 col0\" >-0.00</td>\n",
              "      <td id=\"T_21302_row14_col1\" class=\"data row14 col1\" >0.10</td>\n",
              "      <td id=\"T_21302_row14_col2\" class=\"data row14 col2\" >-0.11</td>\n",
              "      <td id=\"T_21302_row14_col3\" class=\"data row14 col3\" >-0.21</td>\n",
              "      <td id=\"T_21302_row14_col4\" class=\"data row14 col4\" >0.86</td>\n",
              "      <td id=\"T_21302_row14_col5\" class=\"data row14 col5\" >0.27</td>\n",
              "      <td id=\"T_21302_row14_col6\" class=\"data row14 col6\" >0.24</td>\n",
              "      <td id=\"T_21302_row14_col7\" class=\"data row14 col7\" >0.17</td>\n",
              "      <td id=\"T_21302_row14_col8\" class=\"data row14 col8\" >0.12</td>\n",
              "      <td id=\"T_21302_row14_col9\" class=\"data row14 col9\" >-0.03</td>\n",
              "      <td id=\"T_21302_row14_col10\" class=\"data row14 col10\" >0.02</td>\n",
              "      <td id=\"T_21302_row14_col11\" class=\"data row14 col11\" >-0.01</td>\n",
              "      <td id=\"T_21302_row14_col12\" class=\"data row14 col12\" >0.19</td>\n",
              "      <td id=\"T_21302_row14_col13\" class=\"data row14 col13\" >0.10</td>\n",
              "      <td id=\"T_21302_row14_col14\" class=\"data row14 col14\" >1.00</td>\n",
              "    </tr>\n",
              "  </tbody>\n",
              "</table>\n"
            ]
          },
          "metadata": {},
          "execution_count": 10
        }
      ]
    },
    {
      "cell_type": "markdown",
      "source": [
        "##### Оценим статистическую значимость коэффициентов корреляции. Для расчета  воспользуемся следующими методами:\n",
        "\n",
        "* Матрица корреляции Пирсона - для числовых признаков\n",
        "\n",
        "* Хи-квадрат статистика, тест Фишера - для категориальных признаков\n",
        "\n",
        "* Бисериальная корреляция - для числовых и категориальных признаков.\n"
      ],
      "metadata": {
        "id": "gejbocGMvXV5"
      }
    },
    {
      "cell_type": "code",
      "source": [
        "import scipy.stats as stats\n",
        "from scipy.stats import pearsonr, chi2_contingency, fisher_exact, pointbiserialr"
      ],
      "metadata": {
        "id": "9OUQXeAQ6QoF"
      },
      "execution_count": null,
      "outputs": []
    },
    {
      "cell_type": "code",
      "source": [
        "sns.set(style=\"darkgrid\")\n",
        "plt.figure(figsize=(14, 14))"
      ],
      "metadata": {
        "colab": {
          "base_uri": "https://localhost:8080/",
          "height": 52
        },
        "id": "_Cw5dR9HQrhy",
        "outputId": "59b852e5-fc32-4c45-cf56-a7a0c901f4e5"
      },
      "execution_count": null,
      "outputs": [
        {
          "output_type": "execute_result",
          "data": {
            "text/plain": [
              "<Figure size 1008x1008 with 0 Axes>"
            ]
          },
          "metadata": {},
          "execution_count": 8
        },
        {
          "output_type": "display_data",
          "data": {
            "text/plain": [
              "<Figure size 1008x1008 with 0 Axes>"
            ]
          },
          "metadata": {}
        }
      ]
    },
    {
      "cell_type": "code",
      "source": [
        "# Бисериальная корреляция\n",
        "# Функция определяет коэффициент корреляции и значение p-value числового и категориального признаков\n",
        "def pb(f_cat, f_num):\n",
        "  r = pointbiserialr(df_work[f_cat], df_work[f_num])\n",
        "  print(f'Корреляция {f_cat} - {f_num} : {r[0]:.4f}. P-value: {r[1]:.4f}')"
      ],
      "metadata": {
        "id": "jVOcpi26Hkus"
      },
      "execution_count": null,
      "outputs": []
    },
    {
      "cell_type": "code",
      "source": [
        "# Метод Пирсона\n",
        "# Функция определяет коэффициент корреляции и значение p-value двух числовых признаков\n",
        "def pearson_korr(f1_num, f2_num):\n",
        "  r = pearsonr(df_work[f1_num], df_work[f2_num])\n",
        "  print(f'Корреляция {f1_num} - {f2_num} : {r[0]:.4f}. P-value: {r[1]:.4f}')"
      ],
      "metadata": {
        "id": "VRsmUfrSJE0B"
      },
      "execution_count": null,
      "outputs": []
    },
    {
      "cell_type": "code",
      "source": [
        "# Метод Фишера\n",
        "# Функция определяет коэффициент корреляции и значение p-value двух категориальных признаков\n",
        "def fe(f1_cat, f2_cat):\n",
        "  r = pearsonr(df_work[f1_cat], df_work[f2_cat])\n",
        "  print(f'Корреляция {f1_cat} - {f2_cat} : {r[0]:.4f}. P-value: {r[1]:.4f}')"
      ],
      "metadata": {
        "id": "BIi8KDi2Q3oy"
      },
      "execution_count": null,
      "outputs": []
    },
    {
      "cell_type": "markdown",
      "source": [
        "##### Диагностические показатели - ССЗ"
      ],
      "metadata": {
        "id": "E7t8yH7wg2hw"
      }
    },
    {
      "cell_type": "code",
      "source": [
        "# Диагностические показатели - ССЗ\n",
        "pb('ap_hi','cardio')\n",
        "pb('cholesterol','cardio')\n",
        "pb('gluc','cardio')\n",
        "# Корреляция присутствует, стстистически значима"
      ],
      "metadata": {
        "colab": {
          "base_uri": "https://localhost:8080/"
        },
        "id": "VKgI8e3PhEvt",
        "outputId": "15608110-d7df-48d2-f772-91d2fd390ac0"
      },
      "execution_count": null,
      "outputs": [
        {
          "output_type": "stream",
          "name": "stdout",
          "text": [
            "Корреляция ap_hi - cardio : 0.4279. P-value: 0.0000\n",
            "Корреляция cholesterol - cardio : 0.2214. P-value: 0.0000\n",
            "Корреляция gluc - cardio : 0.0895. P-value: 0.0000\n"
          ]
        }
      ]
    },
    {
      "cell_type": "code",
      "source": [
        "sns.histplot(\n",
        "    data= df_work, \n",
        "    x = 'ap_hi', \n",
        "    binwidth=10, \n",
        "    hue = 'cardio', \n",
        "    stat='count', \n",
        "    palette = ['steelblue', 'sandybrown']\n",
        ")\n",
        "rcParams['axes.titlesize'] = 14\n",
        "plt.title('Распределение систолического давления пациентов, имеющих/не имеющих ССЗ')\n",
        "plt.xlabel('Давление')\n",
        "plt.ylabel('Количество пациентов')\n",
        "\n",
        "top_bar = mpatches.Patch(color='steelblue', label='cardio = No')\n",
        "bottom_bar = mpatches.Patch(color='sandybrown', label='cardio = Yes')\n",
        "plt.legend(handles=[top_bar, bottom_bar], loc='upper right')\n",
        "\n",
        "plt.show()\n",
        "\n",
        "# Повышенное систолическое давление (> 130) приводит к возникновению ССЗ. Этот признак необходимо контролировать с целью выявления риска возникновения ССЗ"
      ],
      "metadata": {
        "colab": {
          "base_uri": "https://localhost:8080/",
          "height": 465
        },
        "id": "A4NU21RHPk2B",
        "outputId": "b2f39e35-74f7-4a52-a3c5-f5c2093faa41"
      },
      "execution_count": null,
      "outputs": [
        {
          "output_type": "display_data",
          "data": {
            "text/plain": [
              "<Figure size 792x504 with 1 Axes>"
            ],
            "image/png": "[encoded data removed]"
          },
          "metadata": {}
        }
      ]
    },
    {
      "cell_type": "code",
      "source": [
        "df_work_gr1 = df_work.groupby(['cholesterol', 'cardio'])['id'].count().reset_index()\n",
        "sns.barplot(\n",
        "    x='cholesterol', \n",
        "    y='id',\n",
        "    data=df_work_gr1,\n",
        "    hue='cardio',\n",
        "    palette = ['steelblue', 'sandybrown']\n",
        ")\n",
        "\n",
        "plt.title('Заболеваемость ССЗ в зависимости от уровня холестерина')\n",
        "plt.xlabel('Уровень холестерина')\n",
        "plt.ylabel('Количество пациентов')\n",
        "\n",
        "\n",
        "top_bar = mpatches.Patch(color='steelblue', label='cardio = No')\n",
        "bottom_bar = mpatches.Patch(color='sandybrown', label='cardio = Yes')\n",
        "plt.legend(handles=[top_bar, bottom_bar], loc='upper right')\n",
        "\n",
        "plt.show()"
      ],
      "metadata": {
        "colab": {
          "base_uri": "https://localhost:8080/",
          "height": 465
        },
        "id": "j28yWbdfRV67",
        "outputId": "9b8c70a5-9ea4-4115-95e9-3cff1ac1c6d1"
      },
      "execution_count": null,
      "outputs": [
        {
          "output_type": "display_data",
          "data": {
            "text/plain": [
              "<Figure size 792x504 with 1 Axes>"
            ],
            "image/png": "[encoded data removed]"
          },
          "metadata": {}
        }
      ]
    },
    {
      "cell_type": "code",
      "source": [
        "df_work_gr1 = df_work.groupby(['gluc', 'cardio'])['id'].count().reset_index()\n",
        "sns.barplot(\n",
        "    x='gluc', \n",
        "    y='id',\n",
        "    data=df_work_gr1,\n",
        "    hue='cardio',\n",
        "    palette = ['steelblue', 'sandybrown']\n",
        ")\n",
        "\n",
        "plt.title('Заболеваемость ССЗ в зависимости от уровня сахара')\n",
        "plt.xlabel('Уровень сахара')\n",
        "plt.ylabel('Количество пациентов')\n",
        "\n",
        "\n",
        "top_bar = mpatches.Patch(color='steelblue', label='cardio = No')\n",
        "bottom_bar = mpatches.Patch(color='sandybrown', label='cardio = Yes')\n",
        "plt.legend(handles=[top_bar, bottom_bar], loc='upper right')\n",
        "\n",
        "plt.show()"
      ],
      "metadata": {
        "colab": {
          "base_uri": "https://localhost:8080/",
          "height": 519
        },
        "id": "kHuMtszSR8Ox",
        "outputId": "736184fe-c7d1-434a-f6c8-75b222033de5"
      },
      "execution_count": null,
      "outputs": [
        {
          "output_type": "display_data",
          "data": {
            "text/plain": [
              "<Figure size 1008x576 with 1 Axes>"
            ],
            "image/png": "[encoded data removed]"
          },
          "metadata": {}
        }
      ]
    },
    {
      "cell_type": "markdown",
      "source": [
        "##### Объективные показатели (ИМТ, возраст, пол) - ССЗ\n"
      ],
      "metadata": {
        "id": "F5aOXZn2zesy"
      }
    },
    {
      "cell_type": "code",
      "source": [
        "pb('BMI','cardio')\n",
        "# Корреляция присутствует, статистически значима"
      ],
      "metadata": {
        "colab": {
          "base_uri": "https://localhost:8080/"
        },
        "id": "Bz4KHOTXex9Z",
        "outputId": "dcc6a68a-3784-478f-d6fd-9b36d24f744b"
      },
      "execution_count": null,
      "outputs": [
        {
          "output_type": "stream",
          "name": "stdout",
          "text": [
            "Корреляция BMI - cardio : 0.1900. P-value: 0.0000\n"
          ]
        }
      ]
    },
    {
      "cell_type": "code",
      "source": [
        "sns.histplot(\n",
        "    data= df_work.loc[df_work.BMI<60], \n",
        "    x = 'BMI', \n",
        "    binwidth=2, \n",
        "    hue = 'cardio', \n",
        "    stat='count', \n",
        "    palette = ['steelblue', 'sandybrown']\n",
        ")\n",
        "rcParams['axes.titlesize'] = 14\n",
        "plt.title('Распределение ИМТ пациентов, имеющих/не имеющих ССЗ')\n",
        "plt.xlabel('Вес')\n",
        "plt.ylabel('Количество пациентов')\n",
        "\n",
        "top_bar = mpatches.Patch(color='steelblue', label='cardio = No')\n",
        "bottom_bar = mpatches.Patch(color='sandybrown', label='cardio = Yes')\n",
        "plt.legend(handles=[top_bar, bottom_bar], loc='upper right')\n",
        "\n",
        "plt.show()"
      ],
      "metadata": {
        "colab": {
          "base_uri": "https://localhost:8080/",
          "height": 465
        },
        "id": "feio6faHh1f1",
        "outputId": "6400cba1-60b3-4c3b-a8ee-cc33f93e01c6"
      },
      "execution_count": null,
      "outputs": [
        {
          "output_type": "display_data",
          "data": {
            "text/plain": [
              "<Figure size 792x504 with 1 Axes>"
            ],
            "image/png": "[encoded data removed]"
          },
          "metadata": {}
        }
      ]
    },
    {
      "cell_type": "code",
      "source": [
        "pb('age_years','cardio')\n",
        "# Корреляция присутствует, статистически значима"
      ],
      "metadata": {
        "colab": {
          "base_uri": "https://localhost:8080/"
        },
        "id": "sh4_SQW4UFpz",
        "outputId": "77b1d22d-c0a0-4e58-dcf1-9f1331911869"
      },
      "execution_count": null,
      "outputs": [
        {
          "output_type": "stream",
          "name": "stdout",
          "text": [
            "Корреляция age_years - cardio : 0.2391. P-value: 0.0000\n"
          ]
        }
      ]
    },
    {
      "cell_type": "code",
      "source": [
        "# Нормированный график Доля заболевших в зависимости от возраста.\n",
        "df_work_group = df_work.groupby('age_years')['cardio'].count().reset_index()\n",
        "df_work_group_bot = df_work.loc[df_work['cardio'] == 1].groupby('age_years')['cardio'].count().reset_index()\n",
        "\n",
        "df_work_group_bot['cardio'] = [i / j * 100 for i,j in zip(df_work_group_bot['cardio'], df_work_group['cardio'])]\n",
        "df_work_group['cardio'] = [i / j * 100 for i,j in zip(df_work_group['cardio'], df_work_group['cardio'])]\n",
        "\n",
        "bar1 = sns.barplot(x='age_years',  y='cardio', data=df_work_group, color='steelblue')\n",
        "bar2 = sns.barplot(x='age_years', y='cardio', data=df_work_group_bot,  color='sandybrown')\n",
        "\n",
        "bar1.set_title('Возрастная динамика сердечно-сосудистых заболеваний', fontsize=14)\n",
        "bar1.set_xlabel(\"Возраст\", fontsize=12)\n",
        "bar1.set_ylabel(\"Соотношение здоровые/заболевшие\", fontsize=12)\n",
        "\n",
        "\n",
        "top_bar = mpatches.Patch(color='steelblue', label='cardio = No')\n",
        "bottom_bar = mpatches.Patch(color='sandybrown', label='cardio = Yes')\n",
        "plt.legend(handles=[top_bar, bottom_bar], loc='lower right')\n",
        "plt.show()"
      ],
      "metadata": {
        "colab": {
          "base_uri": "https://localhost:8080/",
          "height": 465
        },
        "id": "SNAetPrpfLJC",
        "outputId": "734707d1-11b0-4423-a744-c84167bbe47d"
      },
      "execution_count": null,
      "outputs": [
        {
          "output_type": "display_data",
          "data": {
            "text/plain": [
              "<Figure size 792x504 with 1 Axes>"
            ],
            "image/png": "[encoded data removed]"
          },
          "metadata": {}
        }
      ]
    },
    {
      "cell_type": "code",
      "source": [
        "fe('gender','cardio')\n",
        "# Зависимость возникновения ССЗ от пола статистически не подтверждена"
      ],
      "metadata": {
        "colab": {
          "base_uri": "https://localhost:8080/"
        },
        "id": "cHlMokk4hGTO",
        "outputId": "14332705-0883-4c5b-9363-b86adc8f9433"
      },
      "execution_count": null,
      "outputs": [
        {
          "output_type": "stream",
          "name": "stdout",
          "text": [
            "Корреляция gender - cardio : 0.0072. P-value: 0.0609\n"
          ]
        }
      ]
    },
    {
      "cell_type": "markdown",
      "source": [
        "##### Поведенческие факторы - ССЗ"
      ],
      "metadata": {
        "id": "fVMZU0UWRstF"
      }
    },
    {
      "cell_type": "code",
      "source": [
        "# Поведенческие факторы и ССЗ\n",
        "fe('cardio','smoke')\n",
        "fe('cardio','alco')\n",
        "fe('cardio','active')\n",
        "# Корреляция присутствует, хотя значения невысокие. Статистическая значимость подтверждается.\n",
        "# Из данных следует меньшая склонность к ССЗ курящих и употребляющих алкоголь. "
      ],
      "metadata": {
        "colab": {
          "base_uri": "https://localhost:8080/"
        },
        "id": "pCJ_exFPOjrH",
        "outputId": "4aa04b42-2ee7-45a1-a967-d9376823d103"
      },
      "execution_count": null,
      "outputs": [
        {
          "output_type": "stream",
          "name": "stdout",
          "text": [
            "Корреляция cardio - smoke : -0.0161. P-value: 0.0000\n",
            "Корреляция cardio - alco : -0.0084. P-value: 0.0271\n",
            "Корреляция cardio - active : -0.0377. P-value: 0.0000\n"
          ]
        }
      ]
    },
    {
      "cell_type": "markdown",
      "source": [
        "##### Поведенческие факторы - Диагностические признаки (давление, холестерин, сахар)"
      ],
      "metadata": {
        "id": "UTK80oOdKEoT"
      }
    },
    {
      "cell_type": "code",
      "source": [
        "# Поведенческие факторы и систолическое давление\n",
        "pb('ap_hi','smoke')\n",
        "pb('ap_hi','alco')\n",
        "pb('ap_hi','active')\n",
        "# Положительная корреляция между smoke, alco и систолическим давлением, статистически значима.\n",
        "# Связь active и ap_hi не выявлена"
      ],
      "metadata": {
        "colab": {
          "base_uri": "https://localhost:8080/"
        },
        "id": "UxqQ8Q6f7FpJ",
        "outputId": "59f2f226-0594-4c99-c7f8-4419b71c1b93"
      },
      "execution_count": null,
      "outputs": [
        {
          "output_type": "stream",
          "name": "stdout",
          "text": [
            "Корреляция ap_hi - smoke : 0.0278. P-value: 0.0000\n",
            "Корреляция ap_hi - alco : 0.0356. P-value: 0.0000\n",
            "Корреляция ap_hi - active : -0.0013. P-value: 0.7333\n"
          ]
        }
      ]
    },
    {
      "cell_type": "code",
      "source": [
        "# Поведенческие факторы и холестерин\n",
        "pb('cholesterol','smoke')\n",
        "pb('cholesterol','alco')\n",
        "pb('cholesterol','active')\n",
        "# Корреляция присутствует, статистически значима. Небольший коэффициент: cholesterol - active"
      ],
      "metadata": {
        "colab": {
          "base_uri": "https://localhost:8080/"
        },
        "id": "yJ7T4lCoOPLk",
        "outputId": "35960e91-8f64-4609-dbc2-73092bc50a20"
      },
      "execution_count": null,
      "outputs": [
        {
          "output_type": "stream",
          "name": "stdout",
          "text": [
            "Корреляция cholesterol - smoke : 0.0100. P-value: 0.0088\n",
            "Корреляция cholesterol - alco : 0.0351. P-value: 0.0000\n",
            "Корреляция cholesterol - active : 0.0087. P-value: 0.0226\n"
          ]
        }
      ]
    },
    {
      "cell_type": "code",
      "source": [
        "# Поведенческие факторы и сахар\n",
        "pb('gluc','smoke')\n",
        "pb('gluc','alco')\n",
        "pb('gluc','active')\n",
        "# Невысокие коэффициенты корреляции, но статистически значимы: gluc - alco, gluc - active "
      ],
      "metadata": {
        "colab": {
          "base_uri": "https://localhost:8080/"
        },
        "id": "nMtD8DagP8z_",
        "outputId": "ac9bddd1-d982-4ed8-e34f-383837c925d9"
      },
      "execution_count": null,
      "outputs": [
        {
          "output_type": "stream",
          "name": "stdout",
          "text": [
            "Корреляция gluc - smoke : -0.0057. P-value: 0.1346\n",
            "Корреляция gluc - alco : 0.0103. P-value: 0.0068\n",
            "Корреляция gluc - active : -0.0078. P-value: 0.0423\n"
          ]
        }
      ]
    },
    {
      "cell_type": "markdown",
      "source": [
        "##### ИМТ - Диагностические признаки и Поведенческие факторы\n"
      ],
      "metadata": {
        "id": "H9NEJtBjKH0s"
      }
    },
    {
      "cell_type": "code",
      "source": [
        "pearson_korr('BMI', 'ap_hi')\n",
        "pearson_korr('BMI', 'cholesterol')\n",
        "pearson_korr('BMI', 'gluc')\n",
        "# Положительные значения корреляции, связь статистически значима"
      ],
      "metadata": {
        "colab": {
          "base_uri": "https://localhost:8080/"
        },
        "id": "PwlpARoMKFn0",
        "outputId": "af91e02c-56ca-49e8-df2d-5ecaa90374df"
      },
      "execution_count": null,
      "outputs": [
        {
          "output_type": "stream",
          "name": "stdout",
          "text": [
            "Корреляция BMI - ap_hi : 0.2676. P-value: 0.0000\n",
            "Корреляция BMI - cholesterol : 0.1720. P-value: 0.0000\n",
            "Корреляция BMI - gluc : 0.1197. P-value: 0.0000\n"
          ]
        }
      ]
    },
    {
      "cell_type": "code",
      "source": [
        "# Поведенческие факторы и вес\n",
        "pb('BMI','smoke')\n",
        "pb('BMI','alco')\n",
        "pb('BMI','active')\n",
        "# Корреляция присутствует, статистически значима. "
      ],
      "metadata": {
        "colab": {
          "base_uri": "https://localhost:8080/"
        },
        "id": "SQkKNnTxCVh9",
        "outputId": "a7820587-0203-4966-f75b-e8a6e1cd60f3"
      },
      "execution_count": null,
      "outputs": [
        {
          "output_type": "stream",
          "name": "stdout",
          "text": [
            "Корреляция BMI - smoke : -0.0339. P-value: 0.0000\n",
            "Корреляция BMI - alco : 0.0172. P-value: 0.0000\n",
            "Корреляция BMI - active : -0.0143. P-value: 0.0002\n"
          ]
        }
      ]
    },
    {
      "cell_type": "markdown",
      "source": [
        "##### Выводы:\n",
        "\n",
        "* Наибольшая связь целевого признака cardio с диагностическими признаками: ap_hi, ap_lo, cholesterol, gluc и объективными признаками: age_years, BMI.\n",
        "Положительная корреляция, т.е. среди пациентов, имеющих повышенные значения диагностических признаков, повышенный вес большая доля ССЗ. \n",
        "* Поведенческие признаки smoke и alco имеют невысокие отрицательные значения корреляции с целевым признаком cardio, что свидетельствует о том, что в анализируемом наборе данных среди курящих и употребляющих алкоголь меньше доля заболевших ССЗ. При этом подтверждается статистическая значимость коэффициентов корреляции.\n",
        "*  При этом поведенческие признаки smoke и alco имеют положительную корреляцию с диагностическими признаками, невысокие коэффициенты корреляции (0.01 - 0.04), статистическая значимость подтверждается. Т.е. у курящих и употребляющих алкоголь более высокие значения диагностических показателей.\n",
        "* Положительная корреляция ИМТ с диагностическими признаками, т.е. у полных людей более высокие значения диагностических показателей.  \n",
        "\n"
      ],
      "metadata": {
        "id": "tG5zNrxja3MN"
      }
    },
    {
      "cell_type": "markdown",
      "source": [
        "### Построение предиктивной модели\n",
        "Рассмотрим несколько моделей классификации и оценим их качество. Для оценки точности используем функцию roc_auc_score"
      ],
      "metadata": {
        "id": "rHI-tHDBId5_"
      }
    },
    {
      "cell_type": "markdown",
      "source": [
        "##### Логистическая регрессия\n",
        "Посмотрим качество модели в зависимости от набора признаков"
      ],
      "metadata": {
        "id": "_uuPN4OWQ8Uk"
      }
    },
    {
      "cell_type": "code",
      "source": [
        "from sklearn.linear_model import LogisticRegression\n",
        "from sklearn.preprocessing import StandardScaler\n",
        "from sklearn.model_selection import train_test_split\n",
        "from sklearn.metrics import accuracy_score, f1_score\n",
        "from sklearn.metrics import roc_auc_score, roc_curve"
      ],
      "metadata": {
        "id": "_R70_J9cQ5aQ"
      },
      "execution_count": null,
      "outputs": []
    },
    {
      "cell_type": "code",
      "source": [
        "# Функция вычисляет показатели Матрицы путаницы\n",
        "def Confusion_Matrix_metrics():\n",
        "  global cf\n",
        "  accuracy = (cf.iat[1,1] + cf.iat[0,0]) / (cf.iat[1,1] + cf.iat[0,0] + cf.iat[1,0] + cf.iat[0,1])\n",
        "  recall = cf.iat[1,1] / (cf.iat[1,1] + cf.iat[1,0]) # из всех положительных классов, сколько мы предсказали правильно. должен быть высоким\n",
        "  precision = cf.iat[1,1] /(cf.iat[1,1] + cf.iat[0,1]) # из всех прогнозирующих положительных классов, сколько мы предсказали правильно. Точность должна быть высокой.\n",
        "  F_score = 2 * recall * precision / (recall+precision)\n",
        "  specificity = cf.iat[0,0] / (cf.iat[0,0] + cf.iat[0,1]) # доля фактических негативов, которые правильно определены.\n",
        "  print('Точность классификации: accuracy = %.3f' % accuracy)\n",
        "  print('Чувствительность: recall = %.3f' % recall)\n",
        "  print('Точность : precision = %.3f' % precision)\n",
        "  print('F-score = %.3f' % F_score)\n",
        "  print('Специфичность : specificity = %.3f' % specificity)"
      ],
      "metadata": {
        "id": "rIWMfAtMuDVN"
      },
      "execution_count": null,
      "outputs": []
    },
    {
      "cell_type": "code",
      "source": [
        "# Модель логистической регрессии с нормализацией признаков\n",
        "def logreg():\n",
        "  X_train, X_test, y_train, y_test = train_test_split(df_work[features], df_work['cardio'], test_size=0.25)\n",
        "\n",
        "  # Нормализация признаков\n",
        "  pca = StandardScaler()\n",
        "  pca.fit(X_train)\n",
        "\n",
        "  X_train = pca.transform(X_train)\n",
        "  X_test = pca.transform(X_test)\n",
        "\n",
        "  # Обучение модели\n",
        "  lr = LogisticRegression(penalty = 'l1', solver = 'saga', max_iter=500)\n",
        "  lr.fit(X_train, np.ravel(y_train,order=\"c\"))\n",
        "\n",
        "  # Предсказание\n",
        "  y_train_pred = lr.predict(X_train)\n",
        "  y_test_pred = lr.predict(X_test)\n",
        "\n",
        "  print('Обучающая выборка: roc_auc_score - %.3f' % (roc_auc_score(y_train, y_train_pred)))\n",
        "  print('Тестовая выборка: roc_auc_score - %.3f' % (roc_auc_score(y_test, y_test_pred)))\n",
        "\n",
        "  print(lr.coef_)"
      ],
      "metadata": {
        "id": "khgDY_SISF5Q"
      },
      "execution_count": null,
      "outputs": []
    },
    {
      "cell_type": "code",
      "source": [
        "# смотрим разные наборы признаков\n",
        "features = ['BMI', 'ap_hi', 'cholesterol', 'gluc', 'smoke', 'alco', 'active', 'age_years']\n",
        "logreg()"
      ],
      "metadata": {
        "colab": {
          "base_uri": "https://localhost:8080/"
        },
        "id": "Bn1ob7toUq6j",
        "outputId": "3d4cba48-0297-4d3a-c5ea-4878fae5bca5"
      },
      "execution_count": null,
      "outputs": [
        {
          "output_type": "stream",
          "name": "stdout",
          "text": [
            "Обучающая выборка: roc_auc_score - 0.727\n",
            "Тестовая выборка: roc_auc_score - 0.725\n",
            "[[ 0.15019717  1.01578845  0.33332407 -0.07749431 -0.03834119 -0.04874576\n",
            "  -0.09599383  0.34559697]]\n"
          ]
        }
      ]
    },
    {
      "cell_type": "code",
      "source": [
        "features = ['BMI', 'ap_hi', 'cholesterol', 'age_years']\n",
        "logreg()"
      ],
      "metadata": {
        "colab": {
          "base_uri": "https://localhost:8080/"
        },
        "id": "A6QF3aftUzgQ",
        "outputId": "fc120839-18b5-4420-8ad3-1c8a3d1adeb9"
      },
      "execution_count": null,
      "outputs": [
        {
          "output_type": "stream",
          "name": "stdout",
          "text": [
            "Обучающая выборка: roc_auc_score - 0.724\n",
            "Тестовая выборка: roc_auc_score - 0.725\n",
            "[[0.15188861 1.00684878 0.30254536 0.33661434]]\n"
          ]
        }
      ]
    },
    {
      "cell_type": "code",
      "source": [
        "features = ['BMI', 'ap_hi', 'cholesterol', 'gluc', 'age_years']\n",
        "logreg()"
      ],
      "metadata": {
        "colab": {
          "base_uri": "https://localhost:8080/"
        },
        "id": "4rBy5m-lVCnU",
        "outputId": "e6039281-e412-4121-fdb3-3fd82756d341"
      },
      "execution_count": null,
      "outputs": [
        {
          "output_type": "stream",
          "name": "stdout",
          "text": [
            "Обучающая выборка: roc_auc_score - 0.724\n",
            "Тестовая выборка: roc_auc_score - 0.725\n",
            "[[ 0.14922081  1.00595992  0.32718959 -0.06034585  0.33850099]]\n"
          ]
        }
      ]
    },
    {
      "cell_type": "code",
      "source": [
        "# Возьмем модель с максимальным набором признаков\n",
        "features = ['BMI', 'ap_hi', 'cholesterol', 'gluc', 'smoke', 'alco', 'active', 'age_years']\n",
        "logreg()"
      ],
      "metadata": {
        "colab": {
          "base_uri": "https://localhost:8080/"
        },
        "id": "OXWZh_WkvUli",
        "outputId": "2e2c933d-5b57-452f-a73f-3c2cf7386c65"
      },
      "execution_count": null,
      "outputs": [
        {
          "output_type": "stream",
          "name": "stdout",
          "text": [
            "Обучающая выборка: roc_auc_score - 0.727\n",
            "Тестовая выборка: roc_auc_score - 0.723\n",
            "[[ 0.14865857  1.02321083  0.33483575 -0.06616161 -0.0387302  -0.04548569\n",
            "  -0.08554112  0.34773397]]\n"
          ]
        }
      ]
    },
    {
      "cell_type": "code",
      "source": [
        "# Построим confusion_matrix для обучающей выборки\n",
        "cf = pd.crosstab(y_train, y_train_pred)\n",
        "\n",
        "Confusion_Matrix_metrics()"
      ],
      "metadata": {
        "colab": {
          "base_uri": "https://localhost:8080/"
        },
        "id": "BIGdicdfv6QF",
        "outputId": "7a2696e4-1d06-454f-9c59-5b65585411d1"
      },
      "execution_count": null,
      "outputs": [
        {
          "output_type": "stream",
          "name": "stdout",
          "text": [
            "Точность классификации: accuracy = 0.740\n",
            "Чувствительность: recall = 0.698\n",
            "Точность : precision = 0.756\n",
            "F-score = 0.726\n",
            "Специфичность : specificity = 0.782\n"
          ]
        }
      ]
    },
    {
      "cell_type": "markdown",
      "source": [
        "##### Варьируем гиперпараметры модели Логистической регрессии"
      ],
      "metadata": {
        "id": "SQNAY3vag1-0"
      }
    },
    {
      "cell_type": "code",
      "source": [
        "from sklearn.model_selection import GridSearchCV"
      ],
      "metadata": {
        "id": "dLCnhtrAcl-O"
      },
      "execution_count": null,
      "outputs": []
    },
    {
      "cell_type": "code",
      "source": [
        "features = ['BMI', 'ap_hi', 'cholesterol', 'gluc', 'smoke', 'alco', 'active', 'age_years']"
      ],
      "metadata": {
        "id": "A3U8_l3SiO1t"
      },
      "execution_count": null,
      "outputs": []
    },
    {
      "cell_type": "code",
      "source": [
        "lr = LogisticRegression(solver = 'saga', max_iter=2000)"
      ],
      "metadata": {
        "id": "VoAY7X1qhk33"
      },
      "execution_count": null,
      "outputs": []
    },
    {
      "cell_type": "code",
      "source": [
        "param_grid = {\n",
        "    'C': [1,2,5],\n",
        "    'penalty': ['l1', 'l2']\n",
        "}"
      ],
      "metadata": {
        "id": "KiBMPNvShmkE"
      },
      "execution_count": null,
      "outputs": []
    },
    {
      "cell_type": "code",
      "source": [
        "search = GridSearchCV(lr, param_grid, n_jobs=-1, cv=5, refit=True, scoring='accuracy')"
      ],
      "metadata": {
        "id": "YMXUFVTIhu7r"
      },
      "execution_count": null,
      "outputs": []
    },
    {
      "cell_type": "code",
      "source": [
        "search.fit(df_work[features], np.ravel(df_work['cardio'],order=\"c\"))"
      ],
      "metadata": {
        "colab": {
          "base_uri": "https://localhost:8080/"
        },
        "id": "S_Pn0_5zh12L",
        "outputId": "f52f76ff-a3bb-449d-c002-80c39fedd329"
      },
      "execution_count": null,
      "outputs": [
        {
          "output_type": "execute_result",
          "data": {
            "text/plain": [
              "GridSearchCV(cv=5, estimator=LogisticRegression(max_iter=2000, solver='saga'),\n",
              "             n_jobs=-1, param_grid={'C': [1, 2, 5], 'penalty': ['l1', 'l2']},\n",
              "             scoring='accuracy')"
            ]
          },
          "metadata": {},
          "execution_count": 118
        }
      ]
    },
    {
      "cell_type": "code",
      "source": [
        "print(search.best_params_)\n",
        "print(search.best_score_)"
      ],
      "metadata": {
        "colab": {
          "base_uri": "https://localhost:8080/"
        },
        "id": "G8eivDqooAl1",
        "outputId": "d15cfa22-1176-4e4e-96a5-262a591136ea"
      },
      "execution_count": null,
      "outputs": [
        {
          "output_type": "stream",
          "name": "stdout",
          "text": [
            "{'C': 2, 'penalty': 'l2'}\n",
            "0.7272714113579142\n"
          ]
        }
      ]
    },
    {
      "cell_type": "code",
      "source": [
        "# Построим модель с учетом указанных гиперпараметров\n",
        "X_train, X_test, y_train, y_test = train_test_split(df_work[features], df_work['cardio'], test_size=0.25)\n",
        "\n",
        "# Нормализация признаков\n",
        "pca = StandardScaler()\n",
        "pca.fit(X_train)\n",
        "\n",
        "X_train = pca.transform(X_train)\n",
        "X_test = pca.transform(X_test)\n",
        "\n",
        "# Обучение модели\n",
        "lr = LogisticRegression(penalty = 'l2', C = 2, solver = 'saga', max_iter=2000)\n",
        "lr.fit(X_train, np.ravel(y_train,order=\"c\"))\n",
        "\n",
        "# Предсказание\n",
        "y_train_pred = lr.predict(X_train)\n",
        "y_test_pred = lr.predict(X_test)\n",
        "\n",
        "print('Обучающая выборка: roc_auc_score - %.3f' % (roc_auc_score(y_train, y_train_pred)))\n",
        "print('Тестовая выборка: roc_auc_score - %.3f' % (roc_auc_score(y_test, y_test_pred)))\n",
        "# Не получили увеличения точности модели"
      ],
      "metadata": {
        "colab": {
          "base_uri": "https://localhost:8080/"
        },
        "id": "tSIzStWTouaO",
        "outputId": "b394c9cb-de91-4c52-a789-9d2672ef9ed2"
      },
      "execution_count": null,
      "outputs": [
        {
          "output_type": "stream",
          "name": "stdout",
          "text": [
            "Обучающая выборка: roc_auc_score - 0.726\n",
            "Тестовая выборка: roc_auc_score - 0.727\n"
          ]
        }
      ]
    },
    {
      "cell_type": "code",
      "source": [
        "# Построим confusion_matrix для обучающей выборки\n",
        "cf = pd.crosstab(y_train, y_train_pred)\n",
        "\n",
        "Confusion_Matrix_metrics()"
      ],
      "metadata": {
        "colab": {
          "base_uri": "https://localhost:8080/"
        },
        "id": "utl1jNXTjSRj",
        "outputId": "10c434af-8742-45c9-bf58-b40ec5a3fcf7"
      },
      "execution_count": null,
      "outputs": [
        {
          "output_type": "stream",
          "name": "stdout",
          "text": [
            "Точность классификации: accuracy = 0.727\n",
            "Чувствительность: recall = 0.664\n",
            "Точность : precision = 0.754\n",
            "F-score = 0.706\n",
            "Специфичность : specificity = 0.787\n"
          ]
        }
      ]
    },
    {
      "cell_type": "markdown",
      "source": [
        "##### Бэггинг для Логистической регрессии"
      ],
      "metadata": {
        "id": "t3jCk2iksVP8"
      }
    },
    {
      "cell_type": "code",
      "source": [
        "from sklearn.ensemble import BaggingClassifier"
      ],
      "metadata": {
        "id": "Eii6R3NvskXm"
      },
      "execution_count": null,
      "outputs": []
    },
    {
      "cell_type": "code",
      "source": [
        "lr = LogisticRegression(penalty = 'l2', C = 2, solver = 'saga', max_iter=2000)"
      ],
      "metadata": {
        "id": "TeTpUvFBtHCE"
      },
      "execution_count": null,
      "outputs": []
    },
    {
      "cell_type": "code",
      "source": [
        "bag = BaggingClassifier(base_estimator=lr, n_estimators=50)\n",
        "bag.fit(X_train, np.ravel(y_train,order=\"c\"))"
      ],
      "metadata": {
        "id": "4cBYlmsotuKT",
        "colab": {
          "base_uri": "https://localhost:8080/"
        },
        "outputId": "38290342-6e35-4954-cccd-db9a8bacb456"
      },
      "execution_count": null,
      "outputs": [
        {
          "output_type": "execute_result",
          "data": {
            "text/plain": [
              "BaggingClassifier(base_estimator=LogisticRegression(C=2, max_iter=2000,\n",
              "                                                    solver='saga'),\n",
              "                  n_estimators=50)"
            ]
          },
          "metadata": {},
          "execution_count": 123
        }
      ]
    },
    {
      "cell_type": "code",
      "source": [
        "y_train_pred = bag.predict(X_train)\n",
        "y_test_pred = bag.predict(X_test)"
      ],
      "metadata": {
        "id": "2vqSMPxrz__3"
      },
      "execution_count": null,
      "outputs": []
    },
    {
      "cell_type": "code",
      "source": [
        "print('Обучающая выборка: roc_auc_score - %.3f' % (roc_auc_score(y_train, y_train_pred)))\n",
        "print('Тестовая выборка: roc_auc_score - %.3f' % (roc_auc_score(y_test, y_test_pred)))"
      ],
      "metadata": {
        "id": "OI1zpwuA0G7R",
        "colab": {
          "base_uri": "https://localhost:8080/"
        },
        "outputId": "815f0d10-abba-4377-c0bd-dd240183a132"
      },
      "execution_count": null,
      "outputs": [
        {
          "output_type": "stream",
          "name": "stdout",
          "text": [
            "Обучающая выборка: roc_auc_score - 0.726\n",
            "Тестовая выборка: roc_auc_score - 0.727\n"
          ]
        }
      ]
    },
    {
      "cell_type": "code",
      "source": [
        "# Построим confusion_matrix для обучающей выборки\n",
        "cf = pd.crosstab(y_train, y_train_pred)\n",
        "\n",
        "Confusion_Matrix_metrics()"
      ],
      "metadata": {
        "colab": {
          "base_uri": "https://localhost:8080/"
        },
        "id": "luGD77Rjn44M",
        "outputId": "8882c9ce-2736-430a-e462-c6b080ca1762"
      },
      "execution_count": null,
      "outputs": [
        {
          "output_type": "stream",
          "name": "stdout",
          "text": [
            "Точность классификации: accuracy = 0.726\n",
            "Чувствительность: recall = 0.664\n",
            "Точность : precision = 0.754\n",
            "F-score = 0.706\n",
            "Специфичность : specificity = 0.787\n"
          ]
        }
      ]
    },
    {
      "cell_type": "markdown",
      "source": [
        "##### Случайный лес"
      ],
      "metadata": {
        "id": "ugIvfvZf0Q5h"
      }
    },
    {
      "cell_type": "code",
      "source": [
        "from sklearn.ensemble import RandomForestClassifier\n",
        "rf = RandomForestClassifier(n_estimators=150, max_depth=8)\n",
        "rf.fit(X_train, np.ravel(y_train,order=\"c\"))"
      ],
      "metadata": {
        "colab": {
          "base_uri": "https://localhost:8080/"
        },
        "id": "Y7Wcn1ED0SCB",
        "outputId": "af5df36c-c790-4bf2-bddf-034e5e78018a"
      },
      "execution_count": null,
      "outputs": [
        {
          "output_type": "execute_result",
          "data": {
            "text/plain": [
              "RandomForestClassifier(max_depth=8, n_estimators=150)"
            ]
          },
          "metadata": {},
          "execution_count": 127
        }
      ]
    },
    {
      "cell_type": "code",
      "source": [
        "y_train_pred = rf.predict(X_train)\n",
        "y_test_pred = rf.predict(X_test)"
      ],
      "metadata": {
        "id": "K89Ht3lw0XWT"
      },
      "execution_count": null,
      "outputs": []
    },
    {
      "cell_type": "code",
      "source": [
        "print('Обучающая выборка: roc_auc_score - %.3f' % (roc_auc_score(y_train, y_train_pred)))\n",
        "print('Тестовая выборка: roc_auc_score - %.3f' % (roc_auc_score(y_test, y_test_pred)))"
      ],
      "metadata": {
        "colab": {
          "base_uri": "https://localhost:8080/"
        },
        "id": "L6BpbScU0bUH",
        "outputId": "fee8a099-8474-4ddd-8801-1ceb492b3674"
      },
      "execution_count": null,
      "outputs": [
        {
          "output_type": "stream",
          "name": "stdout",
          "text": [
            "Обучающая выборка: roc_auc_score - 0.739\n",
            "Тестовая выборка: roc_auc_score - 0.729\n"
          ]
        }
      ]
    },
    {
      "cell_type": "code",
      "source": [
        "# Построим confusion_matrix для обучающей выборки\n",
        "cf = pd.crosstab(y_train, y_train_pred)\n",
        "\n",
        "Confusion_Matrix_metrics()"
      ],
      "metadata": {
        "colab": {
          "base_uri": "https://localhost:8080/"
        },
        "id": "q2925SgIoT07",
        "outputId": "fd798156-9c41-41bb-d777-12a36bf9121d"
      },
      "execution_count": null,
      "outputs": [
        {
          "output_type": "stream",
          "name": "stdout",
          "text": [
            "Точность классификации: accuracy = 0.739\n",
            "Чувствительность: recall = 0.689\n",
            "Точность : precision = 0.762\n",
            "F-score = 0.723\n",
            "Специфичность : specificity = 0.789\n"
          ]
        }
      ]
    },
    {
      "cell_type": "markdown",
      "source": [
        "##### Бустинг"
      ],
      "metadata": {
        "id": "oehb8FCB1T3s"
      }
    },
    {
      "cell_type": "code",
      "source": [
        "import xgboost"
      ],
      "metadata": {
        "id": "UgArY8Om1ZON"
      },
      "execution_count": null,
      "outputs": []
    },
    {
      "cell_type": "code",
      "source": [
        "boosting_model = xgboost.XGBClassifier(n_estimators=500)\n",
        "\n",
        "boosting_model.fit(X_train, np.ravel(y_train,order=\"c\"))\n"
      ],
      "metadata": {
        "colab": {
          "base_uri": "https://localhost:8080/"
        },
        "id": "L2vUp3zj1x_V",
        "outputId": "2dbae180-6c3d-462c-c21a-7f5c3dc737a3"
      },
      "execution_count": null,
      "outputs": [
        {
          "output_type": "execute_result",
          "data": {
            "text/plain": [
              "XGBClassifier(n_estimators=500)"
            ]
          },
          "metadata": {},
          "execution_count": 134
        }
      ]
    },
    {
      "cell_type": "code",
      "source": [
        "y_train_pred = boosting_model.predict(X_train)\n",
        "y_test_pred = boosting_model.predict(X_test)"
      ],
      "metadata": {
        "id": "9gpj_TFk16xJ"
      },
      "execution_count": null,
      "outputs": []
    },
    {
      "cell_type": "code",
      "source": [
        "print('Обучающая выборка: roc_auc_score - %.3f' % (roc_auc_score(y_train, y_train_pred)))\n",
        "print('Тестовая выборка: roc_auc_score - %.3f' % (roc_auc_score(y_test, y_test_pred)))"
      ],
      "metadata": {
        "id": "ZnvUnIrG1_Sj",
        "outputId": "f33d388d-28e6-4c75-fabe-df00097781a0",
        "colab": {
          "base_uri": "https://localhost:8080/"
        }
      },
      "execution_count": null,
      "outputs": [
        {
          "output_type": "stream",
          "name": "stdout",
          "text": [
            "Обучающая выборка: roc_auc_score - 0.742\n",
            "Тестовая выборка: roc_auc_score - 0.729\n"
          ]
        }
      ]
    },
    {
      "cell_type": "code",
      "source": [
        "# Построим confusion_matrix для обучающей выборки\n",
        "cf = pd.crosstab(y_train, y_train_pred)\n",
        "\n",
        "Confusion_Matrix_metrics()"
      ],
      "metadata": {
        "colab": {
          "base_uri": "https://localhost:8080/"
        },
        "id": "fW2S7BWmaxQj",
        "outputId": "7c322320-389b-4d27-9bf2-f31554401dc5"
      },
      "execution_count": null,
      "outputs": [
        {
          "output_type": "stream",
          "name": "stdout",
          "text": [
            "Точность классификации: accuracy = 0.742\n",
            "Чувствительность: recall = 0.705\n",
            "Точность : precision = 0.757\n",
            "F-score = 0.730\n",
            "Специфичность : specificity = 0.779\n"
          ]
        }
      ]
    },
    {
      "cell_type": "markdown",
      "source": [
        "Разница между моделями не столь существенна в части точности предсказания на тестовой выборке 0.726 - 0.729, на обучающей более значимая 0.726 - 0.742. \n",
        "\n",
        "Чувствительность 0.664 - 0.705, т.е. модель в лучшем случае определяет только 70% пациентов фактически имеющих заболевание. В то же время показатель правильности определения среди пациентов, не имеющих заболевание  Специфичность : specificity имеет более высокие значения и изменяется в диапазоне 0.782 - 0.789. \n",
        "\n"
      ],
      "metadata": {
        "id": "NW3uMSrqpXwA"
      }
    }
  ]
}